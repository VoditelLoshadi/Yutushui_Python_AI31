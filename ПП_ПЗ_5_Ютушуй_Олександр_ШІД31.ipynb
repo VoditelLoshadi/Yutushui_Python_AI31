{
  "nbformat": 4,
  "nbformat_minor": 0,
  "metadata": {
    "colab": {
      "provenance": []
    },
    "kernelspec": {
      "name": "python3",
      "display_name": "Python 3"
    },
    "language_info": {
      "name": "python"
    }
  },
  "cells": [
    {
      "cell_type": "markdown",
      "source": [
        "# I. OOP"
      ],
      "metadata": {
        "id": "awfU0tMnOlHH"
      }
    },
    {
      "cell_type": "markdown",
      "source": [
        "1. (7б). Створіть клас Animal, додайте docstring, три атрибути, один з яких має значення за замовчуванням та два методи на свій розсуд."
      ],
      "metadata": {
        "id": "T6r88C4sOwbI"
      }
    },
    {
      "cell_type": "code",
      "source": [
        "class Animal:\n",
        "    \"\"\"\n",
        "    Клас, що представляє тварину.\n",
        "    Атрибути:\n",
        "    - name (str): Ім'я тварини.\n",
        "    - species (str): Вид тварини.\n",
        "    - age (int): Вік тварини (за замовчуванням 1).\n",
        "    \"\"\"\n",
        "\n",
        "    def __init__(self, name, species, age=1):\n",
        "        \"\"\"\n",
        "        Конструктор класу Animal.\n",
        "        Параметри:\n",
        "        - name (str): Ім'я тварини.\n",
        "        - species (str): Вид тварини.\n",
        "        - age (int): Вік тварини (за замовчуванням 1).\n",
        "        \"\"\"\n",
        "        self.name = name\n",
        "        self.species = species\n",
        "        self.age = age\n",
        "\n",
        "    def make_sound(self):\n",
        "        \"\"\"\n",
        "        Метод, що виводить звук тварини.\n",
        "        Повертає:\n",
        "        str: Рядок, що представляє звук тварини.\n",
        "        \"\"\"\n",
        "        return \"Some generic animal sound\"\n",
        "\n",
        "    def describe(self):\n",
        "        \"\"\"\n",
        "        Метод, що повертає рядок з інформацією про тварину.\n",
        "        Повертає:\n",
        "        str: Рядок з інформацією про тварину.\n",
        "        \"\"\"\n",
        "        return f\"{self.name} is a {self.age}-year-old {self.species}.\"\n"
      ],
      "metadata": {
        "id": "fWXuCGV8Oqrn"
      },
      "execution_count": null,
      "outputs": []
    },
    {
      "cell_type": "markdown",
      "source": [
        "1.1. (5б). Створіть два обʼєкти цього класу. На одному обʼєкті отримайте значення його атрибуту, а на іншому викличте один з його методів."
      ],
      "metadata": {
        "id": "CTu5Dt0_UKul"
      }
    },
    {
      "cell_type": "code",
      "source": [
        "animal1 = Animal(name=\"Fluffy\", species=\"Cat\", age=3)\n",
        "animal2 = Animal(name=\"Buddy\", species=\"Dog\", age=2)\n",
        "print(f\"{animal1.name} is a {animal1.species} and is {animal1.age} years old.\")\n",
        "sound = animal2.make_sound()\n",
        "print(f\"{animal2.name} says: {sound}\")"
      ],
      "metadata": {
        "id": "nLQqAIlKUQRP",
        "colab": {
          "base_uri": "https://localhost:8080/"
        },
        "outputId": "f0178d02-da0f-4073-e362-9cb279c5399d"
      },
      "execution_count": null,
      "outputs": [
        {
          "output_type": "stream",
          "name": "stdout",
          "text": [
            "Fluffy is a Cat and is 3 years old.\n",
            "Buddy says: Some generic animal sound\n"
          ]
        }
      ]
    },
    {
      "cell_type": "markdown",
      "source": [
        "2. (9б). Створіть клас, де атрибути мають різні рівні доступу. Спробуйте отримати їхні значення та опишіть результати."
      ],
      "metadata": {
        "id": "3KKpQYcWRNgj"
      }
    },
    {
      "cell_type": "code",
      "source": [
        "class ExampleClass:\n",
        "    def __init__(self):\n",
        "        self.public_attribute = \"Public Value\"\n",
        "        self._private_attribute = \"Private Value\"\n",
        "        self.__restricted_attribute = \"restricted attribute\"\n",
        "    def get_private_attribute(self):\n",
        "        return self._private_attribute\n",
        "    def get_restricted_attribute(self):\n",
        "        return self.__restricted_attribute\n",
        "obj = ExampleClass()\n",
        "print(\"Public Attribute:\", obj.public_attribute)\n",
        "print(\"Private Attribute:\", obj.get_private_attribute())\n",
        "print(\"Restricted Attribute:\", obj.get_restricted_attribute())\n",
        "try:\n",
        "    print(\"Direct access to restricted attribute:\", obj.__restricted_attribute)\n",
        "except AttributeError as e:\n",
        "    print(f\"AttributeError: {e}\")"
      ],
      "metadata": {
        "id": "PlMQmzciRM_D",
        "colab": {
          "base_uri": "https://localhost:8080/"
        },
        "outputId": "0a849693-87aa-4327-e35b-73c75859849e"
      },
      "execution_count": null,
      "outputs": [
        {
          "output_type": "stream",
          "name": "stdout",
          "text": [
            "Public Attribute: Public Value\n",
            "Private Attribute: Private Value\n",
            "Protected Attribute: restricted attribute\n",
            "AttributeError: 'ExampleClass' object has no attribute '__restricted_attribute'\n"
          ]
        }
      ]
    },
    {
      "cell_type": "markdown",
      "source": [
        "\n",
        "У цьому прикладі, атрибут public_attribute визначено з рівнем доступу public, що означає, що ми можемо звертатися до нього ззовні класу без будь-яких обмежень. Атрибути private_attribute та restricted_attribute мають рівні доступу private та restricted відповідно.\n",
        "\n",
        "public_attribute:\n",
        "\n",
        "Це атрибут, до якого можна звертатися ззовні класу без будь-яких обмежень.\n",
        "private_attribute та restricted_attribute:\n",
        "\n",
        "Ці атрибути також можна звертатися до них ззовні класу, але звернення до них може призвести до помилки. Такий підхід забезпечує обмежений доступ до цих атрибутів ззовні класу.\n",
        "Геттери:\n",
        "\n",
        "Зазвичай, звертання до приватних атрибутів ззовні класу відбувається за допомогою методів-геттерів. Геттери це методи, які дозволяють отримати значення приватного атрибута.\n",
        "restricted_attribute та помилка:\n",
        "\n",
        "Якщо ми спробуємо звернутися до restricted_attribute напряму ззовні класу, може виникнути помилка, оскільки цей атрибут обмежено доступний. Це допомагає захистити атрибут від непередбачених змін зовнішніми частинами програми.\n",
        "Отже, використання рівнів доступу (public, private, restricted) дозволяє контролювати, як із зовнішнього коду можна звертатися до атрибутів класу, забезпечуючи безпеку та структуру коду."
      ],
      "metadata": {
        "id": "h2nu3Z5xUpe_"
      }
    },
    {
      "cell_type": "markdown",
      "source": [
        "3. (8б). Як ви розумієте термін self? Для чого використовується метод __init __?"
      ],
      "metadata": {
        "id": "iaoOLp4RRZyc"
      }
    },
    {
      "cell_type": "markdown",
      "source": [
        "self:\n",
        "В контексті мови програмування Python, self є конвенційним ім'ям, яке використовується для посилання на сам об'єкт класу в методах цього класу. Коли ви визиваєте метод об'єкта, Python автоматично передає посилання на цей об'єкт через параметр, якому традиційно присвоюється ім'я self. За допомогою self ви можете звертатися до атрибутів та інших методів об'єкта всередині самого класу.\n",
        "init:\n",
        "Метод __init__ є конструктором класу в Python. Він викликається автоматично при створенні нового об'єкта цього класу. Цей метод використовується для ініціалізації об'єкта, встановлення його властивостей та виконання будь-якої попередньої роботи, яка може бути необхідною перед використанням об'єкта.\n",
        "\n"
      ],
      "metadata": {
        "id": "-yuvBRjFRlz5"
      }
    },
    {
      "cell_type": "markdown",
      "source": [
        "4. (8б). Створіть клас Фігура без атрибутів, з методом get_area для отримання площі фігури, що повертає 0 та __add __, який приймає self та other в якості аргументів, а повертає суму площин фігур self та other."
      ],
      "metadata": {
        "id": "nVectYeATZAi"
      }
    },
    {
      "cell_type": "code",
      "source": [
        "class Figure:\n",
        "    def get_area(self):\n",
        "        return 0\n",
        "\n",
        "    def __add__(self, other):\n",
        "            return self.get_area() + other.get_area()\n",
        "figure1 = Figure()\n",
        "figure2 = Figure()\n",
        "\n",
        "area1 = figure1.get_area()\n",
        "area2 = figure2.get_area()\n",
        "\n",
        "print(\"The area of the first figure:\", area1)\n",
        "print(\"The area of the second figure:\", area2)\n",
        "\n",
        "sum_area = figure1 + figure2\n",
        "print(\"Sum of the areas of shapes:\", sum_area)"
      ],
      "metadata": {
        "id": "EYvcpzHbRZLz",
        "colab": {
          "base_uri": "https://localhost:8080/"
        },
        "outputId": "59a7d126-c946-4193-ca92-3cd5cf317f3f"
      },
      "execution_count": null,
      "outputs": [
        {
          "output_type": "stream",
          "name": "stdout",
          "text": [
            "The area of the first figure: 0\n",
            "The area of the second figure: 0\n",
            "Sum of the areas of shapes: 0\n"
          ]
        }
      ]
    },
    {
      "cell_type": "markdown",
      "source": [
        "5. (11б). Створіть 2 дочірніх класи від Фігури: Трикутник та Коло, які мають атрибути, необхідні для розрахунку площин. Визначте метод get_area в кожному з них так, щоби вони розраховували площу в залежності від формули для кожного типу фігури. Створіть обʼєкт класу Трикутник та обʼєкт класу Коло. Виконайте операцію суми за допомогою оператора + між ними."
      ],
      "metadata": {
        "id": "PheOkqlCg9SD"
      }
    },
    {
      "cell_type": "code",
      "source": [
        "import math\n",
        "class Triangle(Figure):\n",
        "    def __init__(self, base, height):\n",
        "        self.base = base\n",
        "        self.height = height\n",
        "\n",
        "    def get_area(self):\n",
        "        return 0.5 * self.base * self.height\n",
        "\n",
        "class Circle(Figure):\n",
        "    def __init__(self, radius):\n",
        "        self.radius = radius\n",
        "\n",
        "    def get_area(self):\n",
        "        return math.pi * self.radius ** 2\n",
        "\n",
        "triangle = Triangle(base=3, height=4)\n",
        "circle = Circle(radius=2)\n",
        "\n",
        "triangle_area = triangle.get_area()\n",
        "circle_area = circle.get_area()\n",
        "\n",
        "print(\"The area of a triangle:\", triangle_area)\n",
        "print(\"Area of the circle:\", circle_area)\n",
        "\n",
        "sum_area = triangle + circle\n",
        "print(\"The sum of the areas of the figures:\", sum_area)"
      ],
      "metadata": {
        "id": "7Jo8-rqlhNSw",
        "colab": {
          "base_uri": "https://localhost:8080/"
        },
        "outputId": "f0ff14e1-a572-4f90-ea01-dcbbf189de62"
      },
      "execution_count": null,
      "outputs": [
        {
          "output_type": "stream",
          "name": "stdout",
          "text": [
            "The area of a triangle: 6.0\n",
            "Area of the circle: 12.566370614359172\n",
            "The sum of the areas of the figures: 18.566370614359172\n"
          ]
        }
      ]
    },
    {
      "cell_type": "markdown",
      "source": [
        "6. (7б). Продемонструйте різницю між isinstance та issubclass."
      ],
      "metadata": {
        "id": "WxW51aGIhN2q"
      }
    },
    {
      "cell_type": "code",
      "source": [
        "class Animal:\n",
        "    pass\n",
        "\n",
        "class Cat(Animal):\n",
        "    pass\n",
        "my_Cat = Cat()\n",
        "print(\"Is my_Cat an instance of Cat?\", isinstance(my_Cat, Cat))  # True\n",
        "\n",
        "print(\"Is my_Cat an instance of Animal?\", isinstance(my_Cat, Animal))  # True\n",
        "\n",
        "print(\"Is Cat a subclass of Animal?\", issubclass(Cat, Animal))  # True\n",
        "\n",
        "print(\"Is Animal a subclass of Cat?\", issubclass(Animal, Cat))  # False\n"
      ],
      "metadata": {
        "id": "E-QybeYShdAu",
        "colab": {
          "base_uri": "https://localhost:8080/"
        },
        "outputId": "f47bf7c1-9255-44bb-b897-6d24fc3ff2a3"
      },
      "execution_count": null,
      "outputs": [
        {
          "output_type": "stream",
          "name": "stdout",
          "text": [
            "Is my_Cat an instance of Cat? True\n",
            "Is my_Cat an instance of Animal? True\n",
            "Is Cat a subclass of Animal? True\n",
            "Is Animal a subclass of Cat? False\n"
          ]
        }
      ]
    },
    {
      "cell_type": "markdown",
      "source": [
        "isinstance:\n",
        "\n",
        "Функція isinstance(object, class) перевіряє, чи об'єкт є екземпляром певного класу або його підкласу.\n",
        "\n",
        " issubclass:\n",
        "Функція issubclass(class, classinfo) перевіряє, чи один клас є підкласом іншого класу.\n",
        "\n",
        "Отже, isinstance стосується об'єктів, перевіряючи їхнє походження, тоді як issubclass порівнює два класи, перевіряючи їхній родинний зв'язок."
      ],
      "metadata": {
        "id": "mP0DmjanYyBt"
      }
    },
    {
      "cell_type": "markdown",
      "source": [
        "7. (16б). Створіть клас BankAccount з приватними атрибутами balance та account_number.\n",
        "Реалізуйте методи поповнення та зняття коштів, забезпечивши належну інкапсуляцію. Підказка: використовуйте декоратори getter та setter."
      ],
      "metadata": {
        "id": "Mrup7UL3hfC3"
      }
    },
    {
      "cell_type": "code",
      "source": [
        "class BankAccount:\n",
        "    def __init__(self, account_number, initial_balance=0):\n",
        "        self._account_number = account_number\n",
        "        self._balance = initial_balance\n",
        "\n",
        "    @property\n",
        "    def account_number(self):\n",
        "        return self._account_number\n",
        "\n",
        "    @property\n",
        "    def balance(self):\n",
        "        return self._balance\n",
        "\n",
        "    @balance.setter\n",
        "    def balance(self, new_balance):\n",
        "        if new_balance >= 0:\n",
        "            self._balance = new_balance\n",
        "        else:\n",
        "            print(\"Error: Balance cannot be negative.\")\n",
        "\n",
        "    def deposit(self, amount):\n",
        "        if amount > 0:\n",
        "            self._balance += amount\n",
        "            print(f\"Deposited {amount}$ units. New balance: {self._balance}$\")\n",
        "        else:\n",
        "            print(\"Error: Deposit amount must be positive.\")\n",
        "\n",
        "    def withdraw(self, amount):\n",
        "        if 0 < amount <= self._balance:\n",
        "            self._balance -= amount\n",
        "            print(f\"Withdrew {amount}$ units. New balance: {self._balance}$\")\n",
        "        else:\n",
        "            print(\"Error: Invalid withdrawal amount.\")\n",
        "\n",
        "account = BankAccount(account_number=\"1111 **** **** 2023\", initial_balance=1000)\n",
        "print(\"Account Number:\", account.account_number)\n",
        "print(\"Initial Balance:\", account.balance, \"$\")\n",
        "account.deposit(500)\n",
        "account.withdraw(200)\n",
        "account.balance = -100\n",
        "account.withdraw(1500)"
      ],
      "metadata": {
        "id": "Vi8gw9G6i37Y",
        "colab": {
          "base_uri": "https://localhost:8080/"
        },
        "outputId": "f0ced405-efcf-41b4-c589-5bb751b2cb78"
      },
      "execution_count": null,
      "outputs": [
        {
          "output_type": "stream",
          "name": "stdout",
          "text": [
            "Account Number: 1111 **** **** 2023\n",
            "Initial Balance: 1000 $\n",
            "Deposited 500$ units. New balance: 1500$\n",
            "Withdrew 200$ units. New balance: 1300$\n",
            "Error: Balance cannot be negative.\n",
            "Error: Invalid withdrawal amount.\n"
          ]
        }
      ]
    },
    {
      "cell_type": "markdown",
      "source": [
        "8. (16б). Створіть клас Library, який містить список об'єктів типу Book.\n",
        "Реалізуйте методи для додавання книги, видалення книги та відображення списку книг."
      ],
      "metadata": {
        "id": "q1mgZYuFjB_q"
      }
    },
    {
      "cell_type": "code",
      "source": [
        "class Book:\n",
        "    def __init__(self, title, author):\n",
        "        self.title = title\n",
        "        self.author = author\n",
        "\n",
        "class Library:\n",
        "    def __init__(self):\n",
        "        self.books = []\n",
        "\n",
        "    def add_book(self, book):\n",
        "        self.books.append(book)\n",
        "        print(f\"Book '{book.title}' by {book.author} added to the library.\")\n",
        "\n",
        "    def remove_book(self, book_title):\n",
        "\n",
        "        for book in self.books:\n",
        "            if book.title == book_title:\n",
        "                self.books.remove(book)\n",
        "                print(f\"Book '{book.title}' removed from the library.\")\n",
        "                return\n",
        "        print(f\"Book with title '{book_title}' not found in the library.\")\n",
        "\n",
        "    def display_books(self):\n",
        "        if not self.books:\n",
        "            print(\"The library is empty.\")\n",
        "        else:\n",
        "            print(\"Books in the library:\")\n",
        "            for book in self.books:\n",
        "                print(f\"# '{book.title}' by {book.author} #\")\n",
        "\n",
        "\n",
        "\n",
        "library = Library()\n",
        "\n",
        "book4 = Book(\"Thinking, Fast and Slow\", \"Daniel Kahneman\")\n",
        "book5 = Book(\"The Power of Habit\", \"Charles Duhigg\")\n",
        "book6 = Book(\"Man's Search for Meaning\", \"Viktor Frankl\")\n",
        "\n",
        "library.add_book(book4)\n",
        "library.add_book(book5)\n",
        "library.add_book(book6)\n",
        "print()\n",
        "library.display_books()\n",
        "print()\n",
        "library.remove_book(\"Thinking, Fast and Slow\")\n",
        "print()\n",
        "library.display_books()"
      ],
      "metadata": {
        "id": "z1W8DINmjQQj",
        "colab": {
          "base_uri": "https://localhost:8080/"
        },
        "outputId": "d23ddd4c-b22e-45bc-8583-940442064e56"
      },
      "execution_count": null,
      "outputs": [
        {
          "output_type": "stream",
          "name": "stdout",
          "text": [
            "Book 'Thinking, Fast and Slow' by Daniel Kahneman added to the library.\n",
            "Book 'The Power of Habit' by Charles Duhigg added to the library.\n",
            "Book 'Man's Search for Meaning' by Viktor Frankl added to the library.\n",
            "\n",
            "Books in the library:\n",
            "# 'Thinking, Fast and Slow' by Daniel Kahneman #\n",
            "# 'The Power of Habit' by Charles Duhigg #\n",
            "# 'Man's Search for Meaning' by Viktor Frankl #\n",
            "\n",
            "Book 'Thinking, Fast and Slow' removed from the library.\n",
            "\n",
            "Books in the library:\n",
            "# 'The Power of Habit' by Charles Duhigg #\n",
            "# 'Man's Search for Meaning' by Viktor Frankl #\n"
          ]
        }
      ]
    },
    {
      "cell_type": "markdown",
      "source": [
        "9. (13б). Створіть клас Person з атрибутами name та age.\n",
        "Створіть ще один клас Employee з такими атрибутами, як department та salary.\n",
        "Створіть клас Manager, який успадковує обидва класи Person та Employee. Продемонструйте використання множинної спадковості, створивши обʼєкт класу Manager та отримавши mro для цього класу."
      ],
      "metadata": {
        "id": "cCzctafPjwiZ"
      }
    },
    {
      "cell_type": "code",
      "source": [
        "class Person:\n",
        "    def __init__(self, name, age):\n",
        "        self.name = name\n",
        "        self.age = age\n",
        "\n",
        "class Employee:\n",
        "    def __init__(self, department, salary):\n",
        "        self.department = department\n",
        "        self.salary = salary\n",
        "\n",
        "class Manager(Person, Employee):\n",
        "    def __init__(self, name, age, department, salary, title):\n",
        "        # Викликаємо конструктори класів, від яких успадковуємо\n",
        "        Person.__init__(self, name, age)\n",
        "        Employee.__init__(self, department, salary)\n",
        "        self.title = title\n",
        "\n",
        "# Створення об'єкта класу Manager\n",
        "manager = Manager(name=\"Danil\", age=19, department=\"IT\", salary=8000, title=\"Senior Manager\")\n",
        "\n",
        "# Виведення значень атрибутів\n",
        "print(\"Name:\", manager.name)\n",
        "print(\"Age:\", manager.age)\n",
        "print(\"Department:\", manager.department)\n",
        "print(\"Salary:\", manager.salary)\n",
        "print(\"Title:\", manager.title)\n",
        "\n",
        "# Виведення порядку спадковості (MRO)\n",
        "print(\"Method Resolution Order (MRO):\", Manager.mro())"
      ],
      "metadata": {
        "id": "tZQ8-tfPk1k5",
        "colab": {
          "base_uri": "https://localhost:8080/"
        },
        "outputId": "2944b620-ad80-4ec5-e713-ca0c59989b1a"
      },
      "execution_count": null,
      "outputs": [
        {
          "output_type": "stream",
          "name": "stdout",
          "text": [
            "Name: Danil\n",
            "Age: 19\n",
            "Department: IT\n",
            "Salary: 8000\n",
            "Title: Senior Manager\n",
            "Method Resolution Order (MRO): [<class '__main__.Manager'>, <class '__main__.Person'>, <class '__main__.Employee'>, <class 'object'>]\n"
          ]
        }
      ]
    },
    {
      "cell_type": "markdown",
      "source": [
        "# Вітаю! Ви велика(ий) молодець, що впоралась(вся). Похваліть себе та побалуйте чимось приємним. Я Вами пишаюся."
      ],
      "metadata": {
        "id": "dzH9DdFTOxCC"
      }
    }
  ]
}