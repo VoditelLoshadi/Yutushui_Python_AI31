{
  "nbformat": 4,
  "nbformat_minor": 0,
  "metadata": {
    "colab": {
      "provenance": []
    },
    "kernelspec": {
      "name": "python3",
      "display_name": "Python 3"
    },
    "language_info": {
      "name": "python"
    }
  },
  "cells": [
    {
      "cell_type": "markdown",
      "source": [
        "# I. Змінні та памʼять."
      ],
      "metadata": {
        "id": "p9wwt0LZzNvn"
      }
    },
    {
      "cell_type": "markdown",
      "source": [
        "1. Створити змінні, що посилаються на два цілих числа, що однакові за значенням, де значення належить проміжку від -5 до 256. Чи будуть ці змінні рівні тільки за значенням або ж ще будуть посилатися на один і той самий обʼєкт в памʼяті? Наведіть код та дайте текстову відповідь нижче."
      ],
      "metadata": {
        "id": "HTJrrm95xSV9"
      }
    },
    {
      "cell_type": "code",
      "execution_count": null,
      "metadata": {
        "id": "FHSFpb1bwTFG",
        "colab": {
          "base_uri": "https://localhost:8080/"
        },
        "outputId": "ff3d0d68-ad0a-48f1-fb72-5dee1f3e9a4f"
      },
      "outputs": [
        {
          "output_type": "stream",
          "name": "stdout",
          "text": [
            "equal by value: True\n",
            "equal by object: True\n"
          ]
        }
      ],
      "source": [
        "a = 45\n",
        "b = 45\n",
        "areTheySame = a is b\n",
        "print(\"equal by value:\", a == b)\n",
        "print(\"equal by object:\", areTheySame)"
      ]
    },
    {
      "cell_type": "markdown",
      "source": [
        "оператор is порівнює об'єкти за пам'яттю, тобто перевіряє, чи це один і той самий об'єкт. Оператор == порівнює об'єкти за значенням.\n",
        "\n",
        "Якщо обидва числа знаходяться в межах від -5 до 256, то через концепцію \"integer caching\" в Python обидва числа будуть посилатися на один і той самий об'єкт в пам'яті."
      ],
      "metadata": {
        "id": "1Uuf3YdbmO9i"
      }
    },
    {
      "cell_type": "markdown",
      "source": [
        "2. Створити змінні, що посилаються на одне і те саме булеве значення. Чи будуть ці змінні рівні тільки за значенням або ж ще будуть посилатися на один і той самий обʼєкт в памʼяті? Наведіть код та дайте текстову відповідь нижче."
      ],
      "metadata": {
        "id": "N-soIzlV0Awv"
      }
    },
    {
      "cell_type": "code",
      "source": [
        "x = True\n",
        "y = True\n",
        "areTheySame = x is y\n",
        "\n",
        "print(\"equal by value:\", x == y)\n",
        "print(\"equal by object:\", areTheySame)"
      ],
      "metadata": {
        "id": "qK1-VBih0Lgz"
      },
      "execution_count": null,
      "outputs": []
    },
    {
      "cell_type": "markdown",
      "source": [
        "У Python булеві значення True та False кешуються, що означає, що змінні, які вказують на одне і те саме булеве значення, зазвичай будуть посилатися на один і той самий об'єкт в пам'яті.\n",
        "\n",
        "Це робиться для оптимізації використання ресурсів, оскільки булеві значення використовуються дуже часто в умовах і логічних операціях. Кешування дозволяє економити пам'ять, запобігаючи створенню нових об'єктів для однакових булевих значень."
      ],
      "metadata": {
        "id": "nD2SJcgaya4d"
      }
    },
    {
      "cell_type": "markdown",
      "source": [
        "3. За допомогою якої функції можна перевірити належність змінної до вказаного типу даних (напр. чи змінна посилається на значення булевого типу)?"
      ],
      "metadata": {
        "id": "ISORzt6M3vAt"
      }
    },
    {
      "cell_type": "code",
      "source": [
        "b = True\n",
        "if type(b) == bool:\n",
        "    print(\"b is a Boolean type\")\n",
        "else:\n",
        "    print(\"b is not a Boolean type\")"
      ],
      "metadata": {
        "id": "N7HHGm4H4CW7",
        "colab": {
          "base_uri": "https://localhost:8080/"
        },
        "outputId": "c69ad0a5-c38c-4a9c-940b-4e7481f2b0b3"
      },
      "execution_count": null,
      "outputs": [
        {
          "output_type": "stream",
          "name": "stdout",
          "text": [
            "b is a Boolean type\n"
          ]
        }
      ]
    },
    {
      "cell_type": "markdown",
      "source": [
        "# II. Цілі числа та числа з рухомою комою"
      ],
      "metadata": {
        "id": "tRxugKAxwYLw"
      }
    },
    {
      "cell_type": "markdown",
      "source": [
        "4. Створити дві змінні, що посилаються на будь-які два цілих числа та продемонструвати такі арифметичні операції: додавання, віднімання, ділення, множення, ділення без залишку, ділення по модулю, приведення до ступеню. Всі результати операцій вивести на екран."
      ],
      "metadata": {
        "id": "NLHkgd5Gybc8"
      }
    },
    {
      "cell_type": "code",
      "source": [
        "num1 = 10\n",
        "num2 = 5\n",
        "\n",
        "add = num1 + num2\n",
        "print(\"Addition:\", add)\n",
        "\n",
        "subtract = num1 - num2\n",
        "print(\"Subtraction:\", subtract)\n",
        "\n",
        "multiply = num1 * num2\n",
        "print(\"Multiply:\", multiply)\n",
        "\n",
        "division = num1 / num2\n",
        "print(\"Division:\", division)\n",
        "\n",
        "floorDivision = num1 // num2\n",
        "print(\"Floor Division:\", floorDivision)\n",
        "\n",
        "divesiomByModule = num1 % num2\n",
        "print(\"Division by module:\", divesiomByModule)\n",
        "\n",
        "exponential = num1 ** num2\n",
        "print(\"Exponential:\", exponential)"
      ],
      "metadata": {
        "id": "Ck6JaN4Qysoc",
        "colab": {
          "base_uri": "https://localhost:8080/"
        },
        "outputId": "4de081c2-9417-421a-b78a-b14f6822a5f9"
      },
      "execution_count": null,
      "outputs": [
        {
          "output_type": "stream",
          "name": "stdout",
          "text": [
            "Addition: 15\n",
            "Subtraction: 5\n",
            "Multiply: 50\n",
            "Division: 2.0\n",
            "Floor Division: 2\n",
            "Division by module: 0\n",
            "Exponential: 100000\n"
          ]
        }
      ]
    },
    {
      "cell_type": "markdown",
      "source": [
        "5. Створити дві змінні, що посилаються на будь-які два числа з рухомою комою та продемонструвати такі арифметичні операції: додавання, віднімання, ділення, множення, ділення без залишку, ділення по модулю, приведення до ступеню. Всі результати операцій вивести на екран."
      ],
      "metadata": {
        "id": "tOT1crlty3cE"
      }
    },
    {
      "cell_type": "code",
      "source": [
        "num1 = 1.5\n",
        "num2 = 2.5\n",
        "\n",
        "add = num1 + num2\n",
        "print(\"Addition:\", add)\n",
        "\n",
        "subtract = num1 - num2\n",
        "print(\"Subtraction:\", subtract)\n",
        "\n",
        "multiply = num1 * num2\n",
        "print(\"Multiply:\", multiply)\n",
        "\n",
        "division = num1 / num2\n",
        "print(\"Division:\", division)\n",
        "\n",
        "floorDivision = num1 // num2\n",
        "print(\"Floor Division:\", floorDivision)\n",
        "\n",
        "divesiomByModule = num1 % num2\n",
        "print(\"Division by module:\", divesiomByModule)\n",
        "\n",
        "exponential = num1 ** num2\n",
        "print(\"Exponential:\", exponential)"
      ],
      "metadata": {
        "id": "m88_XOI9y-HI",
        "colab": {
          "base_uri": "https://localhost:8080/"
        },
        "outputId": "00b0bb82-76ce-4498-fc1f-5597a4e3192a"
      },
      "execution_count": null,
      "outputs": [
        {
          "output_type": "stream",
          "name": "stdout",
          "text": [
            "Addition: 4.0\n",
            "Subtraction: -1.0\n",
            "Multiply: 3.75\n",
            "Division: 0.6\n",
            "Floor Division: 0.0\n",
            "Division by module: 1.5\n",
            "Exponential: 2.7556759606310752\n"
          ]
        }
      ]
    },
    {
      "cell_type": "markdown",
      "source": [
        "6. Спробуйте проробити всі ті самі арифметичні операції над двома змінними, що посилаються на різні булеві значення. Прокоментуйте, чому, на Вашу думку, Ви отримали саме такі результати."
      ],
      "metadata": {
        "id": "74jIsang0Yfe"
      }
    },
    {
      "cell_type": "code",
      "source": [
        "num1 = True\n",
        "num2 = False\n",
        "\n",
        "add = num1 + num2\n",
        "print(\"Addition:\", add)\n",
        "\n",
        "subtract = num1 - num2\n",
        "print(\"Subtraction:\", subtract)\n",
        "\n",
        "multiply = num1 * num2\n",
        "print(\"Multiply:\", multiply)\n",
        "\n",
        "division = num1 / num2\n",
        "print(\"Division:\", division)\n",
        "\n",
        "floorDivision = num1 // num2\n",
        "print(\"Floor Division:\", floorDivision)\n",
        "\n",
        "divesiomByModule = num1 % num2\n",
        "print(\"Division by module:\", divesiomByModule)\n",
        "\n",
        "exponential = num1 ** num2\n",
        "print(\"Exponential:\", exponential)"
      ],
      "metadata": {
        "id": "Py3JN4gU0eTq",
        "colab": {
          "base_uri": "https://localhost:8080/",
          "height": 297
        },
        "outputId": "d317550d-f297-4c0c-ae42-045fd1dcca9b"
      },
      "execution_count": null,
      "outputs": [
        {
          "output_type": "stream",
          "name": "stdout",
          "text": [
            "Addition: 1\n",
            "Subtraction: 1\n",
            "Multiply: 0\n"
          ]
        },
        {
          "output_type": "error",
          "ename": "ZeroDivisionError",
          "evalue": "ignored",
          "traceback": [
            "\u001b[0;31m---------------------------------------------------------------------------\u001b[0m",
            "\u001b[0;31mZeroDivisionError\u001b[0m                         Traceback (most recent call last)",
            "\u001b[0;32m<ipython-input-12-ab26bbe96ab0>\u001b[0m in \u001b[0;36m<cell line: 13>\u001b[0;34m()\u001b[0m\n\u001b[1;32m     11\u001b[0m \u001b[0mprint\u001b[0m\u001b[0;34m(\u001b[0m\u001b[0;34m\"Multiply:\"\u001b[0m\u001b[0;34m,\u001b[0m \u001b[0mmultiply\u001b[0m\u001b[0;34m)\u001b[0m\u001b[0;34m\u001b[0m\u001b[0;34m\u001b[0m\u001b[0m\n\u001b[1;32m     12\u001b[0m \u001b[0;34m\u001b[0m\u001b[0m\n\u001b[0;32m---> 13\u001b[0;31m \u001b[0mdivision\u001b[0m \u001b[0;34m=\u001b[0m \u001b[0mnum1\u001b[0m \u001b[0;34m/\u001b[0m \u001b[0mnum2\u001b[0m\u001b[0;34m\u001b[0m\u001b[0;34m\u001b[0m\u001b[0m\n\u001b[0m\u001b[1;32m     14\u001b[0m \u001b[0mprint\u001b[0m\u001b[0;34m(\u001b[0m\u001b[0;34m\"Division:\"\u001b[0m\u001b[0;34m,\u001b[0m \u001b[0mdivision\u001b[0m\u001b[0;34m)\u001b[0m\u001b[0;34m\u001b[0m\u001b[0;34m\u001b[0m\u001b[0m\n\u001b[1;32m     15\u001b[0m \u001b[0;34m\u001b[0m\u001b[0m\n",
            "\u001b[0;31mZeroDivisionError\u001b[0m: division by zero"
          ]
        }
      ]
    },
    {
      "cell_type": "markdown",
      "source": [
        "У мові програмування Python, логічне значення True внутрішньо представлено як ціле число 1, тоді як False - як 0. Коли ми виконуємо арифметичні операції, такі як додавання чи віднімання, з логічними значеннями, Python розглядає їх як цілі числа і застосовує відповідні арифметичні операції.\n",
        "\n",
        "Наприклад, якщо a має значення True і b має значення False, то вираз a + b буде розглядатися як 1 + 0, що дорівнює 1.\n",
        "\n",
        "Помилка ZeroDivisionError виникає, коли ми намагаємося поділити число на нуль, наприклад, у виразі division_result = a / b. Така ситуація заборонена в Python, оскільки ділення на нуль не має математичного сенсу і може призвести до невизначеності або неправильних обчислень. Тому при спробі виконати поділ на нуль генерується виняток ZeroDivisionError для вказання на цю помилку виконання програми."
      ],
      "metadata": {
        "id": "-pY4SCvo0wMG"
      }
    },
    {
      "cell_type": "markdown",
      "source": [
        "7. Використовуючи змінні з вправи 3, продемонструйте механізм явного перетворення типів, де числа з рухомою комою перетворюються на цілі числа."
      ],
      "metadata": {
        "id": "1kBClKgPzZnC"
      }
    },
    {
      "cell_type": "code",
      "source": [
        "floatNumber = 10.75\n",
        "intNumber = int(floatNumber)\n",
        "\n",
        "print(\"Число з рухомою комою:\", floatNumber)\n",
        "print(\"Ціле число після перетворення:\", intNumber)"
      ],
      "metadata": {
        "id": "akcVeUWYzlpb",
        "colab": {
          "base_uri": "https://localhost:8080/"
        },
        "outputId": "140a0a4b-702a-46ba-96da-750fcf986895"
      },
      "execution_count": null,
      "outputs": [
        {
          "output_type": "stream",
          "name": "stdout",
          "text": [
            "Число з рухомою комою: 10.75\n",
            "Ціле число після перетворення: 10\n"
          ]
        }
      ]
    },
    {
      "cell_type": "markdown",
      "source": [
        "# III. Робота зі списками."
      ],
      "metadata": {
        "id": "GYVqN9uP1D4n"
      }
    },
    {
      "cell_type": "markdown",
      "source": [
        "8. Створити список двома різними за синтаксисом способами. За допомогою вбудованої функції обчисліть довжину одного з них."
      ],
      "metadata": {
        "id": "7-DeDunw2sO-"
      }
    },
    {
      "cell_type": "code",
      "source": [
        "list1 = [1, 2, 3, 4, 5]\n",
        "list2 = list(\"My list number two\")\n",
        "print(\"List length list1:\", len(list1))\n",
        "print(\"List length list2:\", len(list2))\n"
      ],
      "metadata": {
        "id": "jY07arjK21hH",
        "colab": {
          "base_uri": "https://localhost:8080/"
        },
        "outputId": "6ae6a25c-3df3-4afd-bc47-c715e7e75f4f"
      },
      "execution_count": null,
      "outputs": [
        {
          "output_type": "stream",
          "name": "stdout",
          "text": [
            "List length list1: 5\n",
            "List length list2: 18\n"
          ]
        }
      ]
    },
    {
      "cell_type": "markdown",
      "source": [
        "9. Створіть два списка та за допомогою спеціального методу додайте другий з них в якості останнього елемента першого."
      ],
      "metadata": {
        "id": "8vmGUTjL22gI"
      }
    },
    {
      "cell_type": "code",
      "source": [
        "list1 = [1, 2, 3]\n",
        "list2 = [4, 5, 6]\n",
        "list1.append(list2)\n",
        "print(\"Changed list list1:\", list1)"
      ],
      "metadata": {
        "id": "DSP6lO_m4cdV",
        "colab": {
          "base_uri": "https://localhost:8080/"
        },
        "outputId": "b1213c05-30ba-4653-c10f-b4fc827aa792"
      },
      "execution_count": null,
      "outputs": [
        {
          "output_type": "stream",
          "name": "stdout",
          "text": [
            "Changed list list1: [1, 2, 3, [4, 5, 6]]\n"
          ]
        }
      ]
    },
    {
      "cell_type": "markdown",
      "source": [
        "10. Створіть два списка та за допомогою спеціального методу \"розширте\" перший (додайте всі елементи другого в кінець першого списку). Напишіть, чим відрізняються методи в завданні 9 та 10."
      ],
      "metadata": {
        "id": "6ke6ng2j4dtq"
      }
    },
    {
      "cell_type": "code",
      "source": [
        "list1 = [1, 2, 3]\n",
        "list2 = [4, 5, 6]\n",
        "list1.extend(list2)\n",
        "print(\"Changed list list1:\", list1)"
      ],
      "metadata": {
        "id": "DVJVvu494q8d",
        "colab": {
          "base_uri": "https://localhost:8080/"
        },
        "outputId": "66956e47-6aea-4b5d-92c3-21883ed2df38"
      },
      "execution_count": null,
      "outputs": [
        {
          "output_type": "stream",
          "name": "stdout",
          "text": [
            "Changed list list1: [1, 2, 3, 4, 5, 6]\n"
          ]
        }
      ]
    },
    {
      "cell_type": "markdown",
      "source": [
        "Відмінність між методами extend() та append() у мові програмування Python полягає в їхньому призначенні при роботі зі списками.\n",
        "\n",
        "extend():\n",
        "\n",
        "Метод extend() призначений для розширення списку іншим списком або ітерабельним об'єктом.\n",
        "Він додає всі елементи з іншого списку чи ітерабельного об'єкта в кінець поточного списку.\n",
        "\n",
        "append():\n",
        "\n",
        "Метод append() використовується для додавання лише одного елемента в кінець списку.\n",
        "Він приймає аргумент і додає його в кінець списку.\n",
        "Отже, основна різниця полягає в тому, що extend() розширює список іншим списком або ітерабельним об'єктом, тоді як append() додає лише один елемент у кінець списку."
      ],
      "metadata": {
        "id": "LvEs8TGo6CaT"
      }
    },
    {
      "cell_type": "markdown",
      "source": [
        "11. Створіть список та відсортуйте його так, щоб:\n",
        "а) його id залишився незмінним після сортування.\n",
        "б) результат сортування був збережений у нову змінну. Підказка: для одного пункту використовуйте вбудовану функцію стортування, а в іншому - спеціальний метод для роботи зі списками."
      ],
      "metadata": {
        "id": "iu_NyJeR4vOu"
      }
    },
    {
      "cell_type": "code",
      "source": [
        "# a\n",
        "listObj = [{'id': 3, 'name': 'Олексійович'},\n",
        "           {'id': 1, 'name': 'Колотенко'},\n",
        "           {'id': 2, 'name': 'Данило'},\n",
        "           {'id': 4, 'name': 'ШІД-31'}]\n",
        "sortedListWithId = sorted(listObj, key=lambda x: x['id'])\n",
        "print(\"Список після сортування по id зі збереженням результату у нову змінну:\")\n",
        "for element in sortedListWithId:\n",
        "    print(element)"
      ],
      "metadata": {
        "id": "LWdiIkDj5Nxo",
        "colab": {
          "base_uri": "https://localhost:8080/"
        },
        "outputId": "4e9d6b70-d573-42a1-8e54-058acc71f184"
      },
      "execution_count": null,
      "outputs": [
        {
          "output_type": "stream",
          "name": "stdout",
          "text": [
            "Список після сортування по id зі збереженням результату у нову змінну:\n",
            "{'id': 1, 'name': 'Колотенко'}\n",
            "{'id': 2, 'name': 'Данило'}\n",
            "{'id': 3, 'name': 'Олексійович'}\n",
            "{'id': 4, 'name': 'ШІД-31'}\n"
          ]
        }
      ]
    },
    {
      "cell_type": "code",
      "source": [
        "# b\n",
        "listObj.sort(key=lambda x: x['id'])\n",
        "print(\"Початковий список після сортування по id :\")\n",
        "for element in listObj:\n",
        "    print(element)"
      ],
      "metadata": {
        "id": "JHl9vlFa5bHt",
        "colab": {
          "base_uri": "https://localhost:8080/"
        },
        "outputId": "b00b93a5-f8f4-484a-bfca-0b3ea21275e0"
      },
      "execution_count": null,
      "outputs": [
        {
          "output_type": "stream",
          "name": "stdout",
          "text": [
            "Початковий список після сортування по id :\n",
            "{'id': 1, 'name': 'Колотенко'}\n",
            "{'id': 2, 'name': 'Данило'}\n",
            "{'id': 3, 'name': 'Олексійович'}\n",
            "{'id': 4, 'name': 'ШІД-31'}\n"
          ]
        }
      ]
    },
    {
      "cell_type": "markdown",
      "source": [
        "12. Створіть список з елементами різного типу, де деякі значення елементів повторюються. За допомогою спеціального методу порахуйте кількість значень одного з елементів на Ваш вибір. Результат виведіть на екран."
      ],
      "metadata": {
        "id": "1l80guua5bia"
      }
    },
    {
      "cell_type": "code",
      "source": [
        "mixedList = [1, 'Danil', 2.5, 'Max', 54, 'Sindy', 'Max', True, False, 100]\n",
        "count_orange = mixedList.count(\"Max\")\n",
        "print(\"Max' is repeated: \", count_orange)"
      ],
      "metadata": {
        "id": "tWFdczmv5z5Q",
        "colab": {
          "base_uri": "https://localhost:8080/"
        },
        "outputId": "3b3700f0-0997-4e2c-b609-1c5d4fb0cc9a"
      },
      "execution_count": null,
      "outputs": [
        {
          "output_type": "stream",
          "name": "stdout",
          "text": [
            "Max' is repeated:  2\n"
          ]
        }
      ]
    },
    {
      "cell_type": "markdown",
      "source": [
        "# IV. Робота з кортежами."
      ],
      "metadata": {
        "id": "pCjR1dJb1Qbi"
      }
    },
    {
      "cell_type": "markdown",
      "source": [
        "13. Створити список з один типом елементів та на основі цього списку створити кортеж."
      ],
      "metadata": {
        "id": "te3MAUYq28TV"
      }
    },
    {
      "cell_type": "code",
      "source": [
        "myList = [1, 2, 3]\n",
        "myTuple = tuple(myList)\n",
        "print(\"A tuple has been created:\", myTuple)"
      ],
      "metadata": {
        "id": "uq3O114R2_H1",
        "colab": {
          "base_uri": "https://localhost:8080/"
        },
        "outputId": "9f1d0923-0025-42c4-fa73-d17a751cd9dc"
      },
      "execution_count": null,
      "outputs": [
        {
          "output_type": "stream",
          "name": "stdout",
          "text": [
            "A tuple has been created: (1, 2, 3)\n"
          ]
        }
      ]
    },
    {
      "cell_type": "markdown",
      "source": [
        "14. Створити кортеж з один елементом."
      ],
      "metadata": {
        "id": "fAZCxAX06R_k"
      }
    },
    {
      "cell_type": "code",
      "source": [
        "myTuple = (123,)\n",
        "print(myTuple)"
      ],
      "metadata": {
        "id": "-QWjudqk6kHd",
        "colab": {
          "base_uri": "https://localhost:8080/"
        },
        "outputId": "f51f1dbe-4f35-4495-8971-8be6c2398e9b"
      },
      "execution_count": null,
      "outputs": [
        {
          "output_type": "stream",
          "name": "stdout",
          "text": [
            "(123,)\n"
          ]
        }
      ]
    },
    {
      "cell_type": "markdown",
      "source": [
        "15. Створити кортеж. Вивести на екран всі доступні його атрибути та методи."
      ],
      "metadata": {
        "id": "VfTSJwQF7djZ"
      }
    },
    {
      "cell_type": "code",
      "source": [
        "myTuple = (1, 2, 3)\n",
        "print(\"Атрибути та методи кортежу:\")\n",
        "print(dir(myTuple))"
      ],
      "metadata": {
        "id": "x9elcFfr774r",
        "colab": {
          "base_uri": "https://localhost:8080/"
        },
        "outputId": "2dec55a4-02d9-4f87-cf9c-56ef383a6be2"
      },
      "execution_count": null,
      "outputs": [
        {
          "output_type": "stream",
          "name": "stdout",
          "text": [
            "Атрибути та методи кортежу:\n",
            "['__add__', '__class__', '__class_getitem__', '__contains__', '__delattr__', '__dir__', '__doc__', '__eq__', '__format__', '__ge__', '__getattribute__', '__getitem__', '__getnewargs__', '__gt__', '__hash__', '__init__', '__init_subclass__', '__iter__', '__le__', '__len__', '__lt__', '__mul__', '__ne__', '__new__', '__reduce__', '__reduce_ex__', '__repr__', '__rmul__', '__setattr__', '__sizeof__', '__str__', '__subclasshook__', 'count', 'index']\n"
          ]
        }
      ]
    },
    {
      "cell_type": "markdown",
      "source": [
        "16. Порівняйте список та кортеж. Назвіть схожості та відмінності, випадки використання."
      ],
      "metadata": {
        "id": "8LCtYcmI6w1M"
      }
    },
    {
      "cell_type": "markdown",
      "source": [
        "Схожості:\n",
        "Можливість зберігати декілька значень в обох типах даних.\n",
        "Підтримка індексації та зрізів для отримання доступу до елементів.\n",
        "Можливість використання в циклах для ітерації.\n",
        "\n",
        "Відмінності:\n",
        "Кортежі є незмінними, елементи не можна змінювати. Списки можуть змінюватися.\n",
        "Створення кортежу використовує круглі дужки, а списку - квадратні.\n",
        "Списки мають більше методів для динамічної модифікації, кортежі обмежені.\n",
        "писки використовуються для динамічних змін даних, кортежі - для незмінних даних та ефективності використання пам'яті.\n",
        "\n",
        "Тож використовуємо списки коли потрібна змінність, коли дані пов'язані і можуть змінюватися в процесі виконання програми. Кортежі коли дані повинні залишатися незмінними після створення, і коли потрібна більша ефективність в порівнянні зі списками (оскільки кортежі менше мають оброблювати відносно списків)."
      ],
      "metadata": {
        "id": "t9MwoWor7UVB"
      }
    },
    {
      "cell_type": "markdown",
      "source": [
        "# V. Індексування та слайсинг."
      ],
      "metadata": {
        "id": "QTP622J81iHk"
      }
    },
    {
      "cell_type": "markdown",
      "source": [
        "17. Створіть список з 6ти елементів. Отримайте третій елемент за допомогою двох різних індексів."
      ],
      "metadata": {
        "id": "4dmeIU-N9gHy"
      }
    },
    {
      "cell_type": "code",
      "source": [
        "myList = [1, 2, 3, 4, 5, 6]\n",
        "thirdElement1 = myList[2]\n",
        "thirdElement2 = myList[-4]\n",
        "print(\"Список:\", myList)\n",
        "print(\"Третій елемент (за допомогою індексу 2):\", thirdElement1)\n",
        "print(\"Третій елемент (за допомогою негативного індексу -4):\", thirdElement2)"
      ],
      "metadata": {
        "id": "47LTFhfH9pRe",
        "colab": {
          "base_uri": "https://localhost:8080/"
        },
        "outputId": "7e3cf0e5-0fa3-4c43-93c4-3fd397d270ff"
      },
      "execution_count": null,
      "outputs": [
        {
          "output_type": "stream",
          "name": "stdout",
          "text": [
            "Список: [1, 2, 3, 4, 5, 6]\n",
            "Третій елемент (за допомогою індексу 2): 3\n",
            "Третій елемент (за допомогою негативного індексу -4): 3\n"
          ]
        }
      ]
    },
    {
      "cell_type": "markdown",
      "source": [
        "18. Створіть список, де елементами цього списку також є списки. Отримай перший елемент з останнього рядка та виведи значення на екран."
      ],
      "metadata": {
        "id": "JC3BkD-67_--"
      }
    },
    {
      "cell_type": "code",
      "source": [
        "matrix = [\n",
        "    [1, 2, 3],\n",
        "    [4, 5, 6],\n",
        "    [7, 8, 9]\n",
        "]\n",
        "lastRow = matrix[-1]\n",
        "firstElementLastRow = lastRow[0]\n",
        "print(\"Матриця:\")\n",
        "for row in matrix:\n",
        "    print(row)\n",
        "print(\"Перший елемент з останнього рядка:\", firstElementLastRow)"
      ],
      "metadata": {
        "id": "ctR2jdq68cB0",
        "colab": {
          "base_uri": "https://localhost:8080/"
        },
        "outputId": "c3265c0a-10ea-45b5-b0ae-40cc35e47622"
      },
      "execution_count": null,
      "outputs": [
        {
          "output_type": "stream",
          "name": "stdout",
          "text": [
            "Матриця:\n",
            "[1, 2, 3]\n",
            "[4, 5, 6]\n",
            "[7, 8, 9]\n",
            "Перший елемент з останнього рядка: 7\n"
          ]
        }
      ]
    },
    {
      "cell_type": "markdown",
      "source": [
        "19. Створіть кортеж, що містить 8  елементів цілочисленного типу. Виведіть на екран три найменших значення."
      ],
      "metadata": {
        "id": "A-hPrvOS8cjx"
      }
    },
    {
      "cell_type": "code",
      "source": [
        "myTuple = (1, 70, 5, 18, 50, 18, 33, 16)\n",
        "sortedTuple = sorted(myTuple)\n",
        "\n",
        "# Виведення трьох найменших значень\n",
        "threeSmallestValues = sortedTuple[:3]\n",
        "\n",
        "# Виведення результату\n",
        "print(\"Кортеж:\", myTuple)\n",
        "print(\"Три найменших значення:\", threeSmallestValues)"
      ],
      "metadata": {
        "id": "GPxJKNUm8xHU",
        "colab": {
          "base_uri": "https://localhost:8080/"
        },
        "outputId": "c4ff8c21-a5c5-4a08-e3b0-37389c67c050"
      },
      "execution_count": null,
      "outputs": [
        {
          "output_type": "stream",
          "name": "stdout",
          "text": [
            "Кортеж: (1, 70, 5, 18, 50, 18, 33, 16)\n",
            "Три найменших значення: [1, 5, 16]\n"
          ]
        }
      ]
    },
    {
      "cell_type": "markdown",
      "source": [
        "20. Створіть список з десяти елементів різного типу. Отримайте всі елементи, окрім двох перших та двох останніх та збережіть їх в новій змінній."
      ],
      "metadata": {
        "id": "JA47PKTv8zFK"
      }
    },
    {
      "cell_type": "code",
      "source": [
        "myList = [10, 'Dan', 3.14, True, 'Max', 7, 'Sui', False, 42, 'Jack']\n",
        "removedElements = myList[:2] + myList[-2:]\n",
        "cutList = myList[2:-2]\n",
        "print(\"Оригінальний список:\", myList)\n",
        "print(\"видалені елементи:\", removedElements)\n",
        "print(\"Список без видалених елементів:\", cutList)"
      ],
      "metadata": {
        "id": "g-GAQS_kAlmr",
        "colab": {
          "base_uri": "https://localhost:8080/"
        },
        "outputId": "6e72c42c-fa26-4f05-8ff5-b0610dded8bc"
      },
      "execution_count": null,
      "outputs": [
        {
          "output_type": "stream",
          "name": "stdout",
          "text": [
            "Оригінальний список: [10, 'Dan', 3.14, True, 'Max', 7, 'Sui', False, 42, 'Jack']\n",
            "видалені елементи: [10, 'Dan', 42, 'Jack']\n",
            "Список без видалених елементів: [3.14, True, 'Max', 7, 'Sui', False]\n"
          ]
        }
      ]
    },
    {
      "cell_type": "markdown",
      "source": [
        "21. Створіть кортеж з 11ти елементів чисел з рухомою комою та отримайте кожен парний за індексом елемент в зворотньому порядку. Наприклад, маючи (1.2, 2.3, 3.3, 4.3, 5.3, 6.3, 7.3, 8.3, 9.3, 0.3), отримати (0.3, 8.3, 6.3, 4.3, 2.3). Результат збережіть в нову змінну та виведіть на екран."
      ],
      "metadata": {
        "id": "m0xrwFijAmDD"
      }
    },
    {
      "cell_type": "code",
      "source": [
        "myTuple = (1.2, 2.3, 3.3, 4.3, 5.3, 6.3, 7.3, 8.3, 9.3, 0.3)\n",
        "EvenReverseTuple = myTuple[::-2]\n",
        "print(\"результат:\", EvenReverseTuple)"
      ],
      "metadata": {
        "id": "BQwYLEXdBVBo",
        "colab": {
          "base_uri": "https://localhost:8080/"
        },
        "outputId": "11d39cc2-fa4c-40e4-b943-89c569b7e178"
      },
      "execution_count": null,
      "outputs": [
        {
          "output_type": "stream",
          "name": "stdout",
          "text": [
            "результат: (0.3, 8.3, 6.3, 4.3, 2.3)\n"
          ]
        }
      ]
    },
    {
      "cell_type": "markdown",
      "source": [
        "# Вітаю! Ви велика(ий) молодець, що впоралась(вся). Похваліть себе та побалуйте чимось приємним. Я Вами пишаюся."
      ],
      "metadata": {
        "id": "F0ArvieRBZsG"
      }
    }
  ]
}