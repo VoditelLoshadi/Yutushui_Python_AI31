{
  "nbformat": 4,
  "nbformat_minor": 0,
  "metadata": {
    "colab": {
      "provenance": []
    },
    "kernelspec": {
      "name": "python3",
      "display_name": "Python 3"
    },
    "language_info": {
      "name": "python"
    }
  },
  "cells": [
    {
      "cell_type": "markdown",
      "source": [
        "# I. Functions. Arguments."
      ],
      "metadata": {
        "id": "-xM96SkgLNxS"
      }
    },
    {
      "cell_type": "markdown",
      "source": [
        "0. (5б) Назвіть 4 частини, з яких складається визначення функції."
      ],
      "metadata": {
        "id": "RFkkDC1jikAI"
      }
    },
    {
      "cell_type": "code",
      "source": [
        "def greet(name):\n",
        "    print(f\"Hello, {name}!\")"
      ],
      "metadata": {
        "id": "tV4xxWnFisqZ"
      },
      "execution_count": null,
      "outputs": []
    },
    {
      "cell_type": "markdown",
      "source": [
        "1. (4б) Визначте функцію, що приймає 2 аргументи та повертає результат ділення 1го аргумента на інший."
      ],
      "metadata": {
        "id": "mg6qjOB2LbVs"
      }
    },
    {
      "cell_type": "code",
      "execution_count": null,
      "metadata": {
        "id": "lUbA_FWjKxQD",
        "colab": {
          "base_uri": "https://localhost:8080/"
        },
        "outputId": "09ffbf99-ee3f-4615-a805-6c15757cf54e"
      },
      "outputs": [
        {
          "output_type": "stream",
          "name": "stdout",
          "text": [
            "5.0\n"
          ]
        }
      ],
      "source": [
        "def divide_numbers(a, b):\n",
        "    if b == 0:\n",
        "        return \"Помилка: ділення на нуль\"\n",
        "    return a / b\n",
        "print(divide_numbers(10, 2))"
      ]
    },
    {
      "cell_type": "markdown",
      "source": [
        "2. (2б) Викличте вище визначену функцію, де другий аргумент дорівнює 0."
      ],
      "metadata": {
        "id": "wMAYj2KXLpiJ"
      }
    },
    {
      "cell_type": "code",
      "source": [
        "print(divide_numbers(10, 0))"
      ],
      "metadata": {
        "id": "103jJj32Lo4Y",
        "colab": {
          "base_uri": "https://localhost:8080/"
        },
        "outputId": "a7219511-6b55-4e9d-951c-8bac8acc047a"
      },
      "execution_count": null,
      "outputs": [
        {
          "output_type": "stream",
          "name": "stdout",
          "text": [
            "Помилка: ділення на нуль\n"
          ]
        }
      ]
    },
    {
      "cell_type": "markdown",
      "source": [
        "3. (6б) Перевизначте функцію так, щоби у випадку ділення на 0 функція повертала None, а в решті випадків - результат розрахунків."
      ],
      "metadata": {
        "id": "eT-pwEwPMD3T"
      }
    },
    {
      "cell_type": "code",
      "source": [
        "def divide_numbers(a, b):\n",
        "    if b == 0:\n",
        "        return None\n",
        "    return a / b\n",
        "print(divide_numbers(10, 2))\n",
        "print(divide_numbers(10, 0))"
      ],
      "metadata": {
        "id": "1h6Jz7CKMTk_",
        "colab": {
          "base_uri": "https://localhost:8080/"
        },
        "outputId": "f527dfba-a92d-4c05-e30a-5a0515485b41"
      },
      "execution_count": null,
      "outputs": [
        {
          "output_type": "stream",
          "name": "stdout",
          "text": [
            "5.0\n",
            "None\n"
          ]
        }
      ]
    },
    {
      "cell_type": "markdown",
      "source": [
        "4. (5б) Напишіть документацію (docstring) у форматі Google до функції, що має обчислювати суму двох чисел."
      ],
      "metadata": {
        "id": "iuTiofyDMVMG"
      }
    },
    {
      "cell_type": "code",
      "source": [
        "def calculate_sum(a, b):\n",
        "    \"\"\"\n",
        "    Обчислює суму двох чисел.\n",
        "\n",
        "    Args:\n",
        "        a (int or float): Перше число.\n",
        "        b (int or float): Друге число.\n",
        "\n",
        "    Returns:\n",
        "        int or float: Сума чисел a і b.\n",
        "\n",
        "    Example:\n",
        "        >>> calculate_sum(3, 5)\n",
        "        8\n",
        "        >>> calculate_sum(2.5, 4.5)\n",
        "        7.0\n",
        "    \"\"\"\n",
        "    return a + b"
      ],
      "metadata": {
        "id": "a9E6iU_iNyYQ"
      },
      "execution_count": null,
      "outputs": []
    },
    {
      "cell_type": "markdown",
      "source": [
        "5. (4б) Реалізуйте цю функцію (із додаванням docstring у визначення функції)."
      ],
      "metadata": {
        "id": "ZvrsUQZFN5VT"
      }
    },
    {
      "cell_type": "code",
      "source": [
        "def sum_function(number1, number2):\n",
        "    \"\"\"\n",
        "    Calculates the sum of two numbers.\n",
        "\n",
        "    Args:\n",
        "    number1 (int or float): The first number to be added.\n",
        "    number2 (int or float): The second number to add.\n",
        "\n",
        "    Returns:\n",
        "    int or float: The sum of two numbers.\n",
        "\n",
        "    Examples:\n",
        "    >>> sum_function(5, 3)\n",
        "    8\n",
        "    >>> sum_function(2.5, 4.75)\n",
        "    7.25\n",
        "    \"\"\"\n",
        "    return number1 + number2\n",
        "print(sum_function(2,4))"
      ],
      "metadata": {
        "id": "K5h3KTVuOBP3",
        "colab": {
          "base_uri": "https://localhost:8080/"
        },
        "outputId": "6f9f5a7f-c090-43ba-8073-189d98a74785"
      },
      "execution_count": null,
      "outputs": [
        {
          "output_type": "stream",
          "name": "stdout",
          "text": [
            "6\n"
          ]
        }
      ]
    },
    {
      "cell_type": "markdown",
      "source": [
        "6. (6б) Визначте функцію, що віднімає одне число від іншого (підказка: це буде 2 аргументи функції). При чому, якщо не визначити, скільки саме має бути віднято від числа, за замовчуванням має відніматися 1. Викличте функцію, передаючи тільки один аргумент."
      ],
      "metadata": {
        "id": "IILi2wfYOwYb"
      }
    },
    {
      "cell_type": "code",
      "source": [
        "def subtract(x, y=1):\n",
        "    result = x - y\n",
        "    return result\n",
        "print(subtract(10))"
      ],
      "metadata": {
        "id": "hybHnk8ROvxQ",
        "colab": {
          "base_uri": "https://localhost:8080/"
        },
        "outputId": "a6c780f8-31e0-4214-c5cc-49ddb71107f8"
      },
      "execution_count": null,
      "outputs": [
        {
          "output_type": "stream",
          "name": "stdout",
          "text": [
            "9\n"
          ]
        }
      ]
    },
    {
      "cell_type": "markdown",
      "source": [
        "7. (10б) Визначте функцію, яка приймає iterable (ітерабельний обʼєкт, напр. список), що складається з 7ми рядкових значень - назв погодних умов (напр. \"sunny\") за кожен день у тижні. Повертає функція словник, де ключами є рядки з погодними умовами, а значеннями - кількість разів, скільки дана погода була протягом тижня (напр. {'sunny': 1, ...})."
      ],
      "metadata": {
        "id": "UK6o8zcuR7cH"
      }
    },
    {
      "cell_type": "code",
      "source": [
        "def count_weather(week):\n",
        "    counter = {}\n",
        "    for condition in week:\n",
        "        if condition in counter:\n",
        "            counter[condition] += 1\n",
        "        else:\n",
        "            counter[condition] = 1\n",
        "\n",
        "    return counter\n",
        "\n",
        "week = [\"cloudy\", \"rainy\", \"rainy\", \"sunny\", \"rainy\", \"rainy\", \"sunny\"]\n",
        "print(count_weather(week))"
      ],
      "metadata": {
        "id": "3gkR5gl0SyYO",
        "colab": {
          "base_uri": "https://localhost:8080/"
        },
        "outputId": "4454bac6-2693-41b6-fbb0-c87933b04915"
      },
      "execution_count": null,
      "outputs": [
        {
          "output_type": "stream",
          "name": "stdout",
          "text": [
            "{'cloudy': 1, 'rainy': 4, 'sunny': 2}\n"
          ]
        }
      ]
    },
    {
      "cell_type": "markdown",
      "source": [
        "8. (3б) Викличте цю функцію тричі з різними аргументами та виведіть результати на екран."
      ],
      "metadata": {
        "id": "x4zhem_2Syf7"
      }
    },
    {
      "cell_type": "code",
      "source": [
        "week1 = [\"cloudy\", \"rainy\", \"rainy\", \"sunny\", \"rainy\", \"rainy\", \"sunny\"]\n",
        "week2 = [\"cloudy\", \"cloudy\", \"rainy\", \"rainy\", \"sunny\", \"cloudy\", \"sunny\"]\n",
        "week3 = [\"rainy\", \"sunny\", \"rainy\", \"sunny\", \"cloudy\", \"cloudy\", \"sunny\"]\n",
        "print(count_weather(week1))\n",
        "print(count_weather(week2))\n",
        "print(count_weather(week3))"
      ],
      "metadata": {
        "id": "B0agh7urS0Fc",
        "colab": {
          "base_uri": "https://localhost:8080/"
        },
        "outputId": "4c0a9989-650b-4674-e428-18b3a260fd4f"
      },
      "execution_count": null,
      "outputs": [
        {
          "output_type": "stream",
          "name": "stdout",
          "text": [
            "{'cloudy': 1, 'rainy': 4, 'sunny': 2}\n",
            "{'cloudy': 3, 'rainy': 2, 'sunny': 2}\n",
            "{'rainy': 2, 'sunny': 3, 'cloudy': 2}\n"
          ]
        }
      ]
    },
    {
      "cell_type": "markdown",
      "source": [
        "9. (15б) Напишіть програму, яка б шукала необхідне число у **впорядкованому** списку цілочислених значень, де\n",
        "\n",
        "\n",
        "1.   число має вводитись з консолі.\n",
        "2.   власне алгоритм пошуку винесений в окрему функцію, яка повертає булеве значення (знайдено число - True, не знайдено - False).\n",
        "3. в залежності від результату функції, виведіть на екран повідомлення про успішний або ж неуспішний пошук.\n",
        "\n",
        "\n",
        "**Зауваження**: використовувати оператор **in** заборонено."
      ],
      "metadata": {
        "id": "bLgviTMlUlNG"
      }
    },
    {
      "cell_type": "code",
      "source": [
        "def search(number, lst):\n",
        "    start = 0\n",
        "    end = len(lst) - 1\n",
        "\n",
        "    while start <= end:\n",
        "        mid = (start + end) // 2\n",
        "        mid_value = lst[mid]\n",
        "\n",
        "        if mid_value == number:\n",
        "            print(f\"Число {number} знайдено.\")\n",
        "            return True\n",
        "\n",
        "        if mid_value < number:\n",
        "            start = mid + 1\n",
        "        else:\n",
        "            end = mid - 1\n",
        "    print(f\"Число {number} не знайдено.\")\n",
        "    return False\n",
        "number1 = int(input(\"Введіть число: \"))\n",
        "number2 = int(input(\"Введіть число: \"))\n",
        "sorted_list = [2, 5, 8, 12, 16, 23, 38, 45, 50]\n",
        "search(number1, sorted_list)\n",
        "search(number2, sorted_list)\n",
        "print()"
      ],
      "metadata": {
        "id": "LAHz6MmdcWfP",
        "colab": {
          "base_uri": "https://localhost:8080/"
        },
        "outputId": "5dedc3c9-a269-4fb9-98fe-96b07a0c7134"
      },
      "execution_count": null,
      "outputs": [
        {
          "output_type": "stream",
          "name": "stdout",
          "text": [
            "Введіть число: 2\n",
            "Введіть число: 3\n",
            "Число 2 знайдено.\n",
            "Число 3 не знайдено.\n",
            "\n"
          ]
        }
      ]
    },
    {
      "cell_type": "markdown",
      "source": [
        "# II. Lambda functions."
      ],
      "metadata": {
        "id": "wCKOEiKhLSld"
      }
    },
    {
      "cell_type": "markdown",
      "source": [
        "10. (6б) Визначте анонімну функцію, що виконувала б завдання з задачі №1."
      ],
      "metadata": {
        "id": "c4EBfW6QcXF7"
      }
    },
    {
      "cell_type": "code",
      "source": [
        "division_function = lambda x, y: x / y\n",
        "print(\"result:\", division_function(10, 2))"
      ],
      "metadata": {
        "id": "sGgO6KjuhUj5",
        "colab": {
          "base_uri": "https://localhost:8080/"
        },
        "outputId": "c7ca6d51-8324-4482-e137-81d6f8bbc797"
      },
      "execution_count": null,
      "outputs": [
        {
          "output_type": "stream",
          "name": "stdout",
          "text": [
            "result: 5.0\n"
          ]
        }
      ]
    },
    {
      "cell_type": "markdown",
      "source": [
        "11. (5б) В яких випадках варто використовувати лямбда-функції?"
      ],
      "metadata": {
        "id": "fWa0efmRhepO"
      }
    },
    {
      "cell_type": "markdown",
      "source": [
        "\n",
        "Лямбда-функції варто використовувати в таких випадках:\n",
        "\n",
        "Короткі функції:\n",
        "\n",
        "Лямбда-функції зручно використовувати для коротких функцій, де об'єм коду невеликий, і вираження логіки може бути зроблене в одному рядку.\n",
        "Анонімні функції:\n",
        "\n",
        "Коли вам потрібна функція для виконання конкретної задачі, і ви не плануєте використовувати її в інших частинах програми, лямбда-функція може бути зручним варіантом.\n",
        "Передача функцій як аргументів:\n",
        "\n",
        "Якщо вам потрібно передати невелику функцію як аргумент в іншу функцію (наприклад, функцію впорядкування для методу сортування), лямбда-функція може допомогти уникнути написання окремої функції.\n",
        "Використання в функціях вищих порядків:\n",
        "\n",
        "Лямбда-функції часто використовуються в функціях вищих порядків, таких як map, filter або reduce, де вам потрібно визначити коротку функцію для застосування до кожного елемента або для фільтрації.\n",
        "Робота зі структурами даних:\n",
        "\n",
        "При використанні методів, які приймають функції в якості аргументів, таких як sorted, max, min, лямбда-функції можуть бути корисні для визначення критеріїв сортування або порівняння."
      ],
      "metadata": {
        "id": "R68BViaPhad_"
      }
    },
    {
      "cell_type": "markdown",
      "source": [
        "12. (9б) Визначте список з рядками. Після цього визначте анонімну функцію для отримання першого символу у верхньому регістрі для кожного рядка списку.\n",
        "*Підказка*: використовуйте анонімну функцію в якості агрумента до вбудованої ф-ції, яка створена для застосування функцій над iterable обʼєктами.\n",
        "Результат виведіть на екран у вигляді кортежу."
      ],
      "metadata": {
        "id": "0CL6ikIkhU7j"
      }
    },
    {
      "cell_type": "code",
      "source": [
        "string_list = ['Дім', 'ананас', 'нора', 'яблуко']\n",
        "result = tuple(map(lambda x: x[0].upper(), string_list))\n",
        "print(result)"
      ],
      "metadata": {
        "id": "I1Lw2SSNhhJw",
        "colab": {
          "base_uri": "https://localhost:8080/"
        },
        "outputId": "b840da17-22a0-4500-fdff-71bb32ec9ea1"
      },
      "execution_count": null,
      "outputs": [
        {
          "output_type": "stream",
          "name": "stdout",
          "text": [
            "('Д', 'А', 'Н', 'Я')\n"
          ]
        }
      ]
    },
    {
      "cell_type": "markdown",
      "source": [
        "# III. Decorators."
      ],
      "metadata": {
        "id": "rgGmGt67m5yi"
      }
    },
    {
      "cell_type": "markdown",
      "source": [
        "13. (15б) Визначте декоратор, який би виводив у консоль повідомлення про початок роботи і назву функції, а після відпрацювання функції - повідомлення про закінчення роботи і назву функції, що задекорована."
      ],
      "metadata": {
        "id": "DZm1W0Qqncu8"
      }
    },
    {
      "cell_type": "code",
      "source": [
        "\n",
        "def print_function_status(func):\n",
        "    def wrapper(*args, **kwargs):\n",
        "        print(f\"Start of {func.__name__} function\")\n",
        "        result = func(*args, **kwargs)\n",
        "        print(f\"End of {func.__name__} function\")\n",
        "        return result\n",
        "    return wrapper\n",
        "@print_function_status\n",
        "def example_of_sum(a, b):\n",
        "    print(\"This is an example function of sum\")\n",
        "    print(\"sum\", a + b)\n",
        "\n",
        "example_of_sum(5,10)"
      ],
      "metadata": {
        "id": "5s3X3F6soer0",
        "colab": {
          "base_uri": "https://localhost:8080/"
        },
        "outputId": "81bd9e3a-1787-4caf-df0c-336a84efef9a"
      },
      "execution_count": null,
      "outputs": [
        {
          "output_type": "stream",
          "name": "stdout",
          "text": [
            "Start of example_of_sum function\n",
            "This is an example function of sum\n",
            "sum 15\n",
            "End of example_of_sum function\n"
          ]
        }
      ]
    },
    {
      "cell_type": "markdown",
      "source": [
        "14. (7б) Задекоруйте функції з завдання 3, 5 та 6 декоратором із завдання 13. *Примітка*: продемонструйте 2 способи, як можна задекорувати функції (**УВАГА**: не декоруйте функції двічі!)."
      ],
      "metadata": {
        "id": "AlGt40oVofHB"
      }
    },
    {
      "cell_type": "code",
      "source": [
        "@print_function_status\n",
        "def division_function(number, divisor):\n",
        "    if divisor == 0:\n",
        "        return None\n",
        "    else:\n",
        "        return number / divisor\n",
        "\n",
        "@print_function_status\n",
        "def sum_function(number1, number2):\n",
        "    return number1 + number2\n",
        "\n",
        "def subtract_function(number1, number2=1):\n",
        "    return number1 - number2\n",
        "subtract_function = print_function_status(subtract_function)"
      ],
      "metadata": {
        "id": "hkxhoRVqo1AW"
      },
      "execution_count": null,
      "outputs": []
    },
    {
      "cell_type": "markdown",
      "source": [
        "15. (2б) Викличте одну з задекорованих функцій і виведіть її результат на екран."
      ],
      "metadata": {
        "id": "6QkS0Kxzo4UR"
      }
    },
    {
      "cell_type": "code",
      "source": [
        "print(\"result: \", division_function(10, 2))\n",
        "print(\"\\n\")\n",
        "print(\"result: \",sum_function(2, 2))\n",
        "print(\"\\n\")\n",
        "print(\"result: \",subtract_function(10))"
      ],
      "metadata": {
        "id": "BCCCPai6o-y5",
        "colab": {
          "base_uri": "https://localhost:8080/"
        },
        "outputId": "6164ebd1-368a-4734-fb8d-d4e8c886dfed"
      },
      "execution_count": null,
      "outputs": [
        {
          "output_type": "stream",
          "name": "stdout",
          "text": [
            "Start of division_function function\n",
            "End of division_function function\n",
            "result:  5.0\n",
            "\n",
            "\n",
            "Start of sum_function function\n",
            "End of sum_function function\n",
            "result:  4\n",
            "\n",
            "\n",
            "Start of subtract_function function\n",
            "End of subtract_function function\n",
            "result:  9\n"
          ]
        }
      ]
    },
    {
      "cell_type": "markdown",
      "source": [
        "# Вітаю! Ви велика(ий) молодець, що впоралась(вся). Похваліть себе та побалуйте чимось приємним. Я Вами пишаюся."
      ],
      "metadata": {
        "id": "CSN0Q5pMQVNQ"
      }
    }
  ]
}