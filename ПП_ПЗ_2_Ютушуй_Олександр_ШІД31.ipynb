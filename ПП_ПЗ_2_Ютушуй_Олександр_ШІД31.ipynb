{
  "nbformat": 4,
  "nbformat_minor": 0,
  "metadata": {
    "colab": {
      "provenance": []
    },
    "kernelspec": {
      "name": "python3",
      "display_name": "Python 3"
    },
    "language_info": {
      "name": "python"
    }
  },
  "cells": [
    {
      "cell_type": "markdown",
      "source": [
        "# I. Рядки (String)."
      ],
      "metadata": {
        "id": "EVJ7AflwxrZi"
      }
    },
    {
      "cell_type": "markdown",
      "source": [
        "1. Створити пустий рядок двома різними способами."
      ],
      "metadata": {
        "id": "_s5ECzz9zE61"
      }
    },
    {
      "cell_type": "code",
      "execution_count": null,
      "metadata": {
        "id": "HsDOUUMWxo6D"
      },
      "outputs": [],
      "source": [
        "str1 = \"   \"\n",
        "str2 = str()"
      ]
    },
    {
      "cell_type": "markdown",
      "source": [
        "2. Створити рядок з апострофом."
      ],
      "metadata": {
        "id": "4Bdn9J3MzLf_"
      }
    },
    {
      "cell_type": "code",
      "source": [
        "stringWithApostrophe = \"Рядок з апострофом: '   \"\n",
        "stringWithApostrophe2 = 'Рядок з апострофом: \\'  '\n",
        "print(stringWithApostrophe)\n",
        "print(stringWithApostrophe2)"
      ],
      "metadata": {
        "id": "OjyFU0iKzPc2",
        "colab": {
          "base_uri": "https://localhost:8080/"
        },
        "outputId": "5cad2c70-729b-477a-fa65-9d8c77c3b9e7"
      },
      "execution_count": null,
      "outputs": [
        {
          "output_type": "stream",
          "name": "stdout",
          "text": [
            "Рядок з апострофом: '   \n",
            "Рядок з апострофом: '  \n"
          ]
        }
      ]
    },
    {
      "cell_type": "markdown",
      "source": [
        "3. Створити рядок з символом переходу на новий рядок та роздрукувати його в консоль."
      ],
      "metadata": {
        "id": "qj7LjXFazbx1"
      }
    },
    {
      "cell_type": "code",
      "source": [
        "myString = \"Це перший рядок.\\nЦе другий рядок.\"\n",
        "\n",
        "print(myString)"
      ],
      "metadata": {
        "id": "K9J-tLXczmyo",
        "colab": {
          "base_uri": "https://localhost:8080/"
        },
        "outputId": "705156c8-6dca-44b9-80e9-c54a1ae3379d"
      },
      "execution_count": null,
      "outputs": [
        {
          "output_type": "stream",
          "name": "stdout",
          "text": [
            "Це перший рядок.\n",
            "Це другий рядок.\n"
          ]
        }
      ]
    },
    {
      "cell_type": "markdown",
      "source": [
        "4. Зробити рядок з завдання №3 \"сирим\"(raw), вивести в консоль та порівняти з результатом в попередному завданні."
      ],
      "metadata": {
        "id": "XEYGh-BGzzfD"
      }
    },
    {
      "cell_type": "code",
      "source": [
        "rawString = r\"Це сирий рядок з символом \\n переходу на новий рядок.\"\n",
        "\n",
        "# Виведення сирого рядка в консоль\n",
        "print(rawString)\n"
      ],
      "metadata": {
        "id": "0Mb7qYqgzntd",
        "colab": {
          "base_uri": "https://localhost:8080/"
        },
        "outputId": "6d3e5525-8078-485a-933b-a032fb312ea7"
      },
      "execution_count": null,
      "outputs": [
        {
          "output_type": "stream",
          "name": "stdout",
          "text": [
            "Це сирий рядок з символом \\n переходу на новий рядок.\n"
          ]
        }
      ]
    },
    {
      "cell_type": "markdown",
      "source": [
        "*місце для коментарів щодо результатів порівняння"
      ],
      "metadata": {
        "id": "xLM76Cnfz3T_"
      }
    },
    {
      "cell_type": "markdown",
      "source": [
        "5. Створити змінну, що буде посилатися на Ваше прізвище латинкою. Створити форматований рядок, який буде мати вигляд \"My surname is ______\", де на місці нижніх підкреслень буде Ваше прізвище зі змінної."
      ],
      "metadata": {
        "id": "bg_d8wM4z8dS"
      }
    },
    {
      "cell_type": "code",
      "source": [
        "mySurname = \"Kolotenko\"\n",
        "print(f\"My surname is {mySurname}.\")"
      ],
      "metadata": {
        "id": "Cr847KKpz7zF",
        "colab": {
          "base_uri": "https://localhost:8080/"
        },
        "outputId": "3b7ba054-d104-4ef1-caf6-478ccc0b74a8"
      },
      "execution_count": null,
      "outputs": [
        {
          "output_type": "stream",
          "name": "stdout",
          "text": [
            "My surname is Kolotenko.\n"
          ]
        }
      ]
    },
    {
      "cell_type": "markdown",
      "source": [
        "6. Маючи рядок \"My dog is crazy.\" перетворити його на список [\"my\", \"dog\", \"is\", \"crazy\"]"
      ],
      "metadata": {
        "id": "1Nc6RqvQ0hxU"
      }
    },
    {
      "cell_type": "code",
      "source": [
        "str = \"My dog is crazy.\"\n",
        "strWithLowercase = str[0].lower() + str[1:]\n",
        "wordList = strWithLowercase.split()\n",
        "print(wordList)"
      ],
      "metadata": {
        "id": "dGU4MImR063l",
        "colab": {
          "base_uri": "https://localhost:8080/"
        },
        "outputId": "6991f577-2f14-4416-8bd5-ee40ccd6e044"
      },
      "execution_count": null,
      "outputs": [
        {
          "output_type": "stream",
          "name": "stdout",
          "text": [
            "['my', 'dog', 'is', 'crazy.']\n"
          ]
        }
      ]
    },
    {
      "cell_type": "markdown",
      "source": [
        "# II. Множини (Set)."
      ],
      "metadata": {
        "id": "rW_I9dt3x6cW"
      }
    },
    {
      "cell_type": "markdown",
      "source": [
        "7. Створити множину без елементів. Після цого за допомогою методу додайте кілька різних елементів до множини. Чи множини є змінним типом даних?"
      ],
      "metadata": {
        "id": "zNjRLHLw1Bgg"
      }
    },
    {
      "cell_type": "code",
      "source": [
        "mySet = set()\n",
        "\n",
        "mySet.add(1)\n",
        "mySet.add(\"Max\")\n",
        "mySet.add(2)\n",
        "\n",
        "print(\"Множина з елементами:\", mySet)"
      ],
      "metadata": {
        "id": "CB72VZWZ1A7c",
        "colab": {
          "base_uri": "https://localhost:8080/"
        },
        "outputId": "9b85801c-1e84-4bf3-c6de-7914f3ed79d2"
      },
      "execution_count": null,
      "outputs": [
        {
          "output_type": "stream",
          "name": "stdout",
          "text": [
            "Множина з елементами: {1, 2, 'Max'}\n"
          ]
        }
      ]
    },
    {
      "cell_type": "markdown",
      "source": [
        "Так, щодо змінності, множини в мові програмування Python є змінним типом даних. Це означає, що ви можете вносити зміни до множини після її створення. Ви можете додавати нові елементи, видаляти існуючі та виконувати інші операції, які змінюють її вміст."
      ],
      "metadata": {
        "id": "tqxtcfgK4Wkx"
      }
    },
    {
      "cell_type": "markdown",
      "source": [
        "8. Створити множину, маючи список my_list = [1, 1, 2, 67, 67, 8, 9]. Пояснити, чому \"зникли\" деякі елементи."
      ],
      "metadata": {
        "id": "gHpT0Zw_1HEF"
      }
    },
    {
      "cell_type": "code",
      "source": [
        "myList = [1, 1, 2, 67, 67, 8, 9]\n",
        "mySet = set(myList)\n",
        "print(\"Множина зі списку:\", mySet)"
      ],
      "metadata": {
        "id": "U5YnFsPp1OCU",
        "colab": {
          "base_uri": "https://localhost:8080/"
        },
        "outputId": "77bb3f93-1c1d-4caf-cfbb-8d899e54ddb7"
      },
      "execution_count": null,
      "outputs": [
        {
          "output_type": "stream",
          "name": "stdout",
          "text": [
            "Множина зі списку: {1, 2, 67, 8, 9}\n"
          ]
        }
      ]
    },
    {
      "cell_type": "markdown",
      "source": [
        "Set (множина) в мові програмування Python представляє собою колекцію унікальних елементів, яка автоматично видаляє будь-які дублікати. У set не може бути однакових елементів, і при спробі додати вже існуючий елемент, множина залишиться незмінною, оскільки вона вже містить унікальні значення."
      ],
      "metadata": {
        "id": "K5Hz0lsy4cP1"
      }
    },
    {
      "cell_type": "markdown",
      "source": [
        "9. Створіть дві множини. Продемонстуйте над ними операції: обʼєднання, різниці, пересічі та симетричної різниці. Використовуйте методи, що не змінюють множини, а створюють нові."
      ],
      "metadata": {
        "id": "SRMkGizS1UwY"
      }
    },
    {
      "cell_type": "code",
      "source": [
        "set1 = {1, 2, 3, 4}\n",
        "set2 = {3, 4, 5, 6}\n",
        "\n",
        "unionSet = set1.union(set2)\n",
        "\n",
        "differenceSet = set1.difference(set2)\n",
        "\n",
        "intersectionSet = set1.intersection(set2)\n",
        "\n",
        "symmetricDifferenceSet = set1.symmetric_difference(set2)\n",
        "\n",
        "print(\"Об'єднання множин:\", unionSet)\n",
        "print(\"Різниця множин:\", differenceSet)\n",
        "print(\"Перетин множин:\", intersectionSet)\n",
        "print(\"Симетрична різниця множин:\", symmetricDifferenceSet)"
      ],
      "metadata": {
        "id": "pj5ta1CS2LAa",
        "colab": {
          "base_uri": "https://localhost:8080/"
        },
        "outputId": "e6568642-9381-495d-8997-058927483669"
      },
      "execution_count": null,
      "outputs": [
        {
          "output_type": "stream",
          "name": "stdout",
          "text": [
            "Об'єднання множин: {1, 2, 3, 4, 5, 6}\n",
            "Різниця множин: {1, 2}\n",
            "Перетин множин: {3, 4}\n",
            "Симетрична різниця множин: {1, 2, 5, 6}\n"
          ]
        }
      ]
    },
    {
      "cell_type": "markdown",
      "source": [
        "10. Створіть множину з пʼяти елементів. За допомогою спеціального методу, вилучіть три елементи один за одним з множини. Чи може гарантуватися порядок елементів у множинах?"
      ],
      "metadata": {
        "id": "ECo4rGAW2e4S"
      }
    },
    {
      "cell_type": "code",
      "source": [
        "my_set = {1, 2, 3, 4, 5}\n",
        "my_set.pop()\n",
        "my_set.pop()\n",
        "my_set.pop()\n",
        "print(my_set)"
      ],
      "metadata": {
        "id": "tCoJigA-4Ryd",
        "colab": {
          "base_uri": "https://localhost:8080/"
        },
        "outputId": "3883fdd2-71ce-42c6-9f0a-3bed7da3591e"
      },
      "execution_count": null,
      "outputs": [
        {
          "output_type": "stream",
          "name": "stdout",
          "text": [
            "{4, 5}\n"
          ]
        }
      ]
    },
    {
      "cell_type": "markdown",
      "source": [
        "Множини в Python є неупорядкованими колекціями, тобто порядок елементів у множині не гарантується і може змінюватися. Завдяки цьому, видалення елементів з множини не гарантує певного порядку."
      ],
      "metadata": {
        "id": "t7f5oKmP2qum"
      }
    },
    {
      "cell_type": "markdown",
      "source": [
        "# III. Словники (Dictionary)."
      ],
      "metadata": {
        "id": "kWc8gkzTx7Ea"
      }
    },
    {
      "cell_type": "markdown",
      "source": [
        "11. Створіть пустий словник двома способами."
      ],
      "metadata": {
        "id": "FHIRdwck2uji"
      }
    },
    {
      "cell_type": "code",
      "source": [
        "dict1 = {}\n",
        "dict2 = dict()"
      ],
      "metadata": {
        "id": "sF2WCzwJ2yDq"
      },
      "execution_count": null,
      "outputs": []
    },
    {
      "cell_type": "markdown",
      "source": [
        "12. До одного зі словників вище додайте чотири пари елементів такі, щоб їхні ключі були різних типів."
      ],
      "metadata": {
        "id": "i5FLwj-B2ybQ"
      }
    },
    {
      "cell_type": "code",
      "source": [
        "dict1[5] = 'int_key'\n",
        "dict1[3.14] = 'float_key'\n",
        "dict1['key'] = 'string_key'\n",
        "dict1[True] = 'boolean_key'\n",
        "print(dict1)\n"
      ],
      "metadata": {
        "id": "lqunD0EZ2_Vg",
        "colab": {
          "base_uri": "https://localhost:8080/"
        },
        "outputId": "57b0e1d3-ae5d-4f2e-9bd1-a3a5556a8f51"
      },
      "execution_count": null,
      "outputs": [
        {
          "output_type": "stream",
          "name": "stdout",
          "text": [
            "{1: 'boolean_key', 3.14: 'float_key', 5: 'int_key', 'key': 'string_key'}\n"
          ]
        }
      ]
    },
    {
      "cell_type": "markdown",
      "source": [
        "*чи може список бути ключем? а значенням? чому?\n",
        "\n",
        "Список не може бути ключем:\n",
        "\n",
        "Список є змінюваним (mutable) об'єктом, тобто його можна змінювати після створення.\n",
        "Ключі словника повинні бути незмінними (immutable) об'єктами, інакше не буде можливо визначити унікальний хеш-код для ключа.\n",
        "Списки не мають хеш-значення, оскільки їхні елементи можуть змінюватися, і вони не можуть служити як незмінний ідентифікатор.\n",
        "Список може бути значенням:\n",
        "\n",
        "Значення в словнику може бути будь-яким об'єктом, в тому числі і змінюваним (mutable).\n",
        "Список може бути значенням, оскільки значення можуть змінюватися, і це не порушує умови незмінності ключів словника.\n",
        "Отже, коли вам потрібно використовувати список у словнику, зазвичай це буде у ролі значення, яке може змінюватися часом під час виконання програми.\n",
        "\n"
      ],
      "metadata": {
        "id": "XOD2Aaj13Bqx"
      }
    },
    {
      "cell_type": "markdown",
      "source": [
        "13. Використовуючи той самий словник, отримайте по ключу будь-яке значення з наявних. Тепер видаліть цю пару ключ-значення. Спробуйте знову отримати значення по цьому ж ключу. Використовуючи спеціальний метод, виправте помилку."
      ],
      "metadata": {
        "id": "9Tjhmuf73KE6"
      }
    },
    {
      "cell_type": "code",
      "source": [
        "# 1. Get the value by key\n",
        "value = dict1['key']\n",
        "print(\"Values 'key':\", value)\n",
        "\n",
        "# 2. Delete this key-value pair.\n",
        "del dict1['key']\n",
        "\n",
        "# 3. Attempting to get the value by the same key again.\n",
        "temp = dict1.get('key')\n",
        "if temp is None:\n",
        "    print(\"Error: The key 'key' was removed from the dictionary.\")\n",
        "\n",
        "else:\n",
        "    print(\"Values 'key':\", value)\n",
        "\n",
        "# 4. Restore the key-value pair.\n",
        "dict1['key'] = value\n",
        "value = dict1['key']\n",
        "print(\"Values 'key' after restore:\", value)"
      ],
      "metadata": {
        "id": "cNMenuGQ3JMa",
        "colab": {
          "base_uri": "https://localhost:8080/"
        },
        "outputId": "3893be61-3e6e-49a2-fc72-9772b0a11f08"
      },
      "execution_count": null,
      "outputs": [
        {
          "output_type": "stream",
          "name": "stdout",
          "text": [
            "Values 'key': string_key\n",
            "Error: The key 'key' was removed from the dictionary.\n",
            "Values 'key' after restore: string_key\n"
          ]
        }
      ]
    },
    {
      "cell_type": "markdown",
      "source": [
        "# IV. Оператори порівняння та логічні оператори. Умови."
      ],
      "metadata": {
        "id": "SLtQabwUx7Xc"
      }
    },
    {
      "cell_type": "markdown",
      "source": [
        "14. Створіть цілочисленну змінну зі своїм щасливим або улюбленим числом. Напишіть код, який би автоматизовував наступну задачу.\n",
        "\n",
        "Якщо число парне, помножте його на 2 та виведіть результат на екран.\n",
        "\n",
        "Але якщо число непарне, помножте його на 3 та додайте 1 і виведіть на екран.\n"
      ],
      "metadata": {
        "id": "SrehzC-n3-ln"
      }
    },
    {
      "cell_type": "code",
      "source": [
        "my_number = 1\n",
        "\n",
        "if my_number % 2 == 0:\n",
        "    result = my_number * 2\n",
        "    print(f\"Число {my_number} є парним. Результат множення на 2: {result}\")\n",
        "else:\n",
        "    result = my_number * 3 + 1\n",
        "    print(f\"Число {my_number} є непарним. Результат множення на 3 та додавання 1: {result}\")"
      ],
      "metadata": {
        "id": "g0cchKGl3-Gq",
        "colab": {
          "base_uri": "https://localhost:8080/"
        },
        "outputId": "6b45bec5-2451-4e1a-88f1-1dcd010020a3"
      },
      "execution_count": null,
      "outputs": [
        {
          "output_type": "stream",
          "name": "stdout",
          "text": [
            "Число 1 є непарним. Результат множення на 3 та додавання 1: 4\n"
          ]
        }
      ]
    },
    {
      "cell_type": "markdown",
      "source": [
        "15. Створіть рядок зі своїм імʼям латинкою. Напишіть код, який би автоматизовував наступну задачу.\n",
        "\n",
        "Якщо в імені є літера \"а\"\n",
        " або \"i\", Виведіть на екран повідомлення \"A or I is in the name\".\n",
        "\n",
        "\n",
        "\n",
        "Якщо в імені є літери \"o\" та \"n\", Виведіть на екран повідомлення \"O and N is in the name\".\n",
        "\n",
        "Також якщо в імені немає літери \"о\", але є \"n\", Виведіть на екран повідомлення \"Only N is in the name\".\n",
        "\n",
        "В решті випадків виведіть на екран повідомлення \"There is no N in the name, but there might be O\".\n",
        "\n",
        "Зверніть увагу, що, наприклад, для імені \"Antonina\" буде виведено два повідомлення."
      ],
      "metadata": {
        "id": "PRXLVdU26E5Z"
      }
    },
    {
      "cell_type": "code",
      "source": [
        "\n",
        "name1 = \"Danil\"\n",
        "name2 = \"Olya\"\n",
        "name3 = \"Antonina\"\n",
        "def check_name(name):\n",
        "  print(f\"В імені '{name}' є такі літери: \")\n",
        "  if \"a\" in name or \"i\" in name:\n",
        "    print(\"A or I is in the name\")\n",
        "  if \"o\" in name and \"n\" in name:\n",
        "    print(\"O and N is in the name\")\n",
        "  elif \"n\" in name:\n",
        "    print(\"Only N is in the name\")\n",
        "  else:\n",
        "    print(\"There is no N in the name, but there might be O\")\n",
        "\n",
        "check_name(name1)\n",
        "print()\n",
        "check_name(name2)\n",
        "print()\n",
        "check_name(name3)"
      ],
      "metadata": {
        "id": "bQlf4ZUh6Pdz",
        "colab": {
          "base_uri": "https://localhost:8080/"
        },
        "outputId": "40654287-ce6b-4fdc-b9b1-cc195187cf25"
      },
      "execution_count": null,
      "outputs": [
        {
          "output_type": "stream",
          "name": "stdout",
          "text": [
            "В імені 'Danil' є такі літери: \n",
            "A or I is in the name\n",
            "Only N is in the name\n",
            "\n",
            "В імені 'Olya' є такі літери: \n",
            "A or I is in the name\n",
            "There is no N in the name, but there might be O\n",
            "\n",
            "В імені 'Antonina' є такі літери: \n",
            "A or I is in the name\n",
            "O and N is in the name\n"
          ]
        }
      ]
    },
    {
      "cell_type": "markdown",
      "source": [
        "# Вітаю! Ви велика(ий) молодець, що впоралась(вся). Похваліть себе та побалуйте чимось приємним. Я Вами пишаюся."
      ],
      "metadata": {
        "id": "xOZP0hkx6cCr"
      }
    }
  ]
}