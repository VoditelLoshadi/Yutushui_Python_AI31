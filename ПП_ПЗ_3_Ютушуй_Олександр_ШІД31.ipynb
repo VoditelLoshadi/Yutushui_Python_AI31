{
  "nbformat": 4,
  "nbformat_minor": 0,
  "metadata": {
    "colab": {
      "provenance": []
    },
    "kernelspec": {
      "name": "python3",
      "display_name": "Python 3"
    },
    "language_info": {
      "name": "python"
    }
  },
  "cells": [
    {
      "cell_type": "markdown",
      "source": [
        "# I. range."
      ],
      "metadata": {
        "id": "bhnw_OBiped2"
      }
    },
    {
      "cell_type": "markdown",
      "source": [
        "1. (4 бали) Створіть обʼєкт типу range, який буде містити послідовність цілих чисел від 0 до 9 включно. Виведіть його довжину (кількість значень)."
      ],
      "metadata": {
        "id": "cS4sWGwctkLH"
      }
    },
    {
      "cell_type": "code",
      "source": [
        "my_range = range(10)\n",
        "print(len(my_range))"
      ],
      "metadata": {
        "id": "1XFhN5gVte4X",
        "colab": {
          "base_uri": "https://localhost:8080/"
        },
        "outputId": "837082b0-78f3-4b26-d6af-527d98070e38"
      },
      "execution_count": null,
      "outputs": [
        {
          "output_type": "stream",
          "name": "stdout",
          "text": [
            "10\n"
          ]
        }
      ]
    },
    {
      "cell_type": "markdown",
      "source": [
        "2. (5 балів) Створіть обʼєкт типу range, який буде містити послідовність цілих чисел (16, 13, 10, 7, 4, 1, -2, -5)"
      ],
      "metadata": {
        "id": "VZ0Dh0m-t9tM"
      }
    },
    {
      "cell_type": "code",
      "execution_count": null,
      "metadata": {
        "id": "YavF1Agaoe8J",
        "colab": {
          "base_uri": "https://localhost:8080/"
        },
        "outputId": "b96f3404-e8f4-4d88-a96e-688f6e520817"
      },
      "outputs": [
        {
          "output_type": "stream",
          "name": "stdout",
          "text": [
            "16 13 10 7 4 1 -2 -5\n"
          ]
        }
      ],
      "source": [
        "my_range = range(16, -6, -3)\n",
        "print(*my_range)"
      ]
    },
    {
      "cell_type": "markdown",
      "source": [
        "3. (4 бали) Створіть змінну зі значенням цілого типу. Перевірте, чи вона належить проміжку від 49 до 100 включно. Як ви гадаєте, для чого використовуються range?"
      ],
      "metadata": {
        "id": "nBmE3_nMuavj"
      }
    },
    {
      "cell_type": "code",
      "source": [
        "a = 50\n",
        "if 49 <= a <= 100:\n",
        "    print(f\"Значення {a} належить послідовності від 49 до 100 включно.\")\n",
        "else: print(f\"Значення {a} не належить послідовності від 49 до 100 включно.\")\n",
        "\n",
        "my_range = range(49, 101)\n",
        "if a in my_range:\n",
        "    print(f\"Значення {a} належить послідовності від 49 до 100 включно.\")\n",
        "else:\n",
        "    print(f\"Значення {a} не належить послідовності від 49 до 100 включно.\")"
      ],
      "metadata": {
        "id": "5KmgBmOIuku4",
        "colab": {
          "base_uri": "https://localhost:8080/"
        },
        "outputId": "9aee9acc-1146-42b2-d9ab-a5ba41f73691"
      },
      "execution_count": 1,
      "outputs": [
        {
          "output_type": "stream",
          "name": "stdout",
          "text": [
            "Значення 50 належить послідовності від 49 до 100 включно.\n",
            "Значення 50 належить послідовності від 49 до 100 включно.\n"
          ]
        }
      ]
    },
    {
      "cell_type": "markdown",
      "source": [
        "Range в Python - це функція, яка генерує послідовність чисел у вказаному діапазоні для використання в ітерації, циклах for або інших випадках, де потрібно визначити діапазон чисел. Зазвичай вона використовується в циклах для повторення блоку коду певну кількість разів або для створення списків чисел для інших обчислень."
      ],
      "metadata": {
        "id": "hZHtKQUJxDxj"
      }
    },
    {
      "cell_type": "markdown",
      "source": [
        "# II. Comprehensions."
      ],
      "metadata": {
        "id": "56FjMkPatTD6"
      }
    },
    {
      "cell_type": "markdown",
      "source": [
        "4. (6 балів) Створіть множину (set), використовуючи range та set comprehension."
      ],
      "metadata": {
        "id": "AZyfyNfYvOyq"
      }
    },
    {
      "cell_type": "code",
      "source": [
        "my_set = set(range(5))\n",
        "print(*my_set)"
      ],
      "metadata": {
        "id": "DE8oNYSUvNfR",
        "colab": {
          "base_uri": "https://localhost:8080/"
        },
        "outputId": "907be548-144f-4b2d-fd34-cab5903da938"
      },
      "execution_count": null,
      "outputs": [
        {
          "output_type": "stream",
          "name": "stdout",
          "text": [
            "0 1 2 3 4\n"
          ]
        }
      ]
    },
    {
      "cell_type": "markdown",
      "source": [
        "5. (8 балів) Створіть словник, використовуючи dict comprehension, що містить if else. Коли слід використовувати comprehensions, а коли їх слід уникати?"
      ],
      "metadata": {
        "id": "5IsyYnolvWxJ"
      }
    },
    {
      "cell_type": "code",
      "source": [
        "my_dict = {x: 'even' if x % 2 == 0 else 'odd' for x in range(5)}\n",
        "print(my_dict)\n"
      ],
      "metadata": {
        "id": "PTLiarj4vWVu",
        "colab": {
          "base_uri": "https://localhost:8080/"
        },
        "outputId": "eda83d6a-491c-4ebc-d5be-f4a36a8ed6bc"
      },
      "execution_count": null,
      "outputs": [
        {
          "output_type": "stream",
          "name": "stdout",
          "text": [
            "{0: 'even', 1: 'odd', 2: 'even', 3: 'odd', 4: 'even'}\n"
          ]
        }
      ]
    },
    {
      "cell_type": "markdown",
      "source": [
        "Використовуйте comprehensions в мові програмування Python, коли вам потрібно створити нову колекцію (таку як список, словник або множина) на основі іншої колекції, і логіка генерації може бути виражена коротко, поліпшуючи читабельність коду. Comprehensions дозволяють зручно виразити логіку та зменшити кількість коду.\n",
        "\n",
        "Однак слід уникати використання comprehensions, коли генерація стає складною, використання вкладених циклів або складних умов. У таких випадках використання інших структур коду, таких як звичайні цикли чи умовні конструкції, може поліпшити читабельність програми.\n",
        "\n",
        "Загалом, comprehensions - це потужний і зручний інструмент, але важливо використовувати його розумно, з огляду на читабельність та розуміння коду іншими розробниками."
      ],
      "metadata": {
        "id": "PcwgYcjdxYPA"
      }
    },
    {
      "cell_type": "markdown",
      "source": [
        "6. (7 балів) Створіть список з рядками та запишіть його у змінну. Створіть ще один список на основі попереднього, де кожен рядок буде містити тільки три перших заглавних символи. Наприклад: ['hello', 'i', 'dont', 'care'] -> ['HEL', 'I', 'DON', 'CAR']"
      ],
      "metadata": {
        "id": "xPVEDwk6vfhU"
      }
    },
    {
      "cell_type": "code",
      "source": [
        "original_list = ['hello', 'i', 'dont', 'care']\n",
        "new_list = [word[:3].upper() for word in original_list]\n",
        "print(new_list)"
      ],
      "metadata": {
        "id": "l1FAM69Owi7q",
        "colab": {
          "base_uri": "https://localhost:8080/"
        },
        "outputId": "76c2e8fc-df1d-4480-9d95-8193463e2b89"
      },
      "execution_count": null,
      "outputs": [
        {
          "output_type": "stream",
          "name": "stdout",
          "text": [
            "['HEL', 'I', 'DON', 'CAR']\n"
          ]
        }
      ]
    },
    {
      "cell_type": "markdown",
      "source": [
        "# III. Цикли."
      ],
      "metadata": {
        "id": "9zEB8ekEtTnQ"
      }
    },
    {
      "cell_type": "markdown",
      "source": [
        "7. (6 балів) Продемонструйте роботу циклу while. Чи можна використовувати в умові циклу булеві значення? Чому?"
      ],
      "metadata": {
        "id": "AlEfFe4Fwv8n"
      }
    },
    {
      "cell_type": "code",
      "source": [
        "import time\n",
        "counter = 0\n",
        "while counter < 5:\n",
        "    print(f\"число:\", counter)\n",
        "    time.sleep(1)\n",
        "    counter += 1\n",
        "print(\"Цикл завершено.\")"
      ],
      "metadata": {
        "id": "kiDSbqo0wwMZ",
        "colab": {
          "base_uri": "https://localhost:8080/"
        },
        "outputId": "11305760-85e5-4a01-f5ef-c342ef4b9372"
      },
      "execution_count": null,
      "outputs": [
        {
          "output_type": "stream",
          "name": "stdout",
          "text": [
            "число: 0\n",
            "число: 1\n",
            "число: 2\n",
            "число: 3\n",
            "число: 4\n",
            "Цикл завершено.\n"
          ]
        }
      ]
    },
    {
      "cell_type": "markdown",
      "source": [
        "8. (8 балів) Напишіть програму, яка виведе на екран непарні числа в діапазоні від 0 до 20 включно."
      ],
      "metadata": {
        "id": "J9TkD5_Cx3I1"
      }
    },
    {
      "cell_type": "code",
      "source": [
        "for i in range(1, 21, 2):\n",
        "    print(i)"
      ],
      "metadata": {
        "id": "5A1d-qvVx34B",
        "colab": {
          "base_uri": "https://localhost:8080/"
        },
        "outputId": "37c0cd8c-7cd5-476b-c0dc-c4b34a94318f"
      },
      "execution_count": null,
      "outputs": [
        {
          "output_type": "stream",
          "name": "stdout",
          "text": [
            "1\n",
            "3\n",
            "5\n",
            "7\n",
            "9\n",
            "11\n",
            "13\n",
            "15\n",
            "17\n",
            "19\n"
          ]
        }
      ]
    },
    {
      "cell_type": "markdown",
      "source": [
        "9. (7 балів) Створіть список з елементами булевого типу або None. Використовуючи цикли, отримайте в результаті список з кортежами, де перший елемент кортежу - індекс(ціле число), а другий елемент - відповідне значення з першого списку.\n",
        "\n",
        "Наприклад, [True, True, None, False] -> [(0, True), (1, True), (2, None), (3, False)]"
      ],
      "metadata": {
        "id": "xN6Kfmqex4NU"
      }
    },
    {
      "cell_type": "code",
      "source": [
        "list1 = [True, True, None, False]\n",
        "modified_list1 = list(enumerate(list1))\n",
        "print(modified_list1)"
      ],
      "metadata": {
        "id": "YhVlQnNIx405",
        "colab": {
          "base_uri": "https://localhost:8080/"
        },
        "outputId": "25c1e24f-a022-4152-c90b-9eac2e01bdda"
      },
      "execution_count": null,
      "outputs": [
        {
          "output_type": "stream",
          "name": "stdout",
          "text": [
            "[(0, True), (1, True), (2, None), (3, False)]\n"
          ]
        }
      ]
    },
    {
      "cell_type": "markdown",
      "source": [
        "10. (10 балів) Створіть словник, де ключі - назви книжок, а значення - їхня кількість у наявності в Вашій міні-бібліотеці. Бібліотека має містити щонайменше 6 книжок (6 пар значень у словнику) і щонайбільше 10 (пар значень). Використовуючи цикли, оновіть словник (не створюйте новий) так, щоби кількість книг у наявності збільшилося на 5 кожної книги. Наприклад,\n",
        "{'It': 3, 'Fault stars': 10, 'Bible': 17, 'Psychological romance': 4, 'Harry Potter': 13} -> {'It': 8, 'Fault stars': 15, 'Bible': 22, 'Psychological romance': 9, 'Harry Potter': 18}"
      ],
      "metadata": {
        "id": "cJNlWxHLx5mW"
      }
    },
    {
      "cell_type": "code",
      "source": [
        "library  = {'It': 3, 'Fault stars': 10, 'Bible': 17, 'Psychological romance': 4, 'Harry Potter': 13, 'War and Peace': 7, 'The Great Gatsby': 90}\n",
        "\n",
        "for book in library :\n",
        "    library [book] += 5\n",
        "print(library)"
      ],
      "metadata": {
        "id": "pI7I71ao0qh_",
        "colab": {
          "base_uri": "https://localhost:8080/"
        },
        "outputId": "0189e590-9245-47a0-e065-b958980c34a1"
      },
      "execution_count": null,
      "outputs": [
        {
          "output_type": "stream",
          "name": "stdout",
          "text": [
            "{'It': 8, 'Fault stars': 15, 'Bible': 22, 'Psychological romance': 9, 'Harry Potter': 18, 'War and Peace': 12, 'The Great Gatsby': 95}\n"
          ]
        }
      ]
    },
    {
      "cell_type": "markdown",
      "source": [
        "11. (15 балів) Визначте цілочислену змінну n, що належить проміжку від 4 до 10 включно. Використовуючи цикли, виведіть в консоль наступний патерн.\n",
        "\n",
        "#\n",
        "##\n",
        "###\n",
        "####\n",
        "\n",
        "... #*n\n"
      ],
      "metadata": {
        "id": "qdZA6qi82GBa"
      }
    },
    {
      "cell_type": "code",
      "source": [
        "n = int(input(\"Напишіть число від 4 до 10: \"))\n",
        "if 4 <= n <= 10:\n",
        "  for i in range(1, n + 1):\n",
        "      print(\"#\" * i)\n",
        "else:\n",
        "    print(\"Число не належить до проміжку від 4 до 10.\")\n"
      ],
      "metadata": {
        "id": "aaHuUQHfx6YO",
        "colab": {
          "base_uri": "https://localhost:8080/"
        },
        "outputId": "876829e1-8913-4ef9-9ed2-243700c3d2d0"
      },
      "execution_count": null,
      "outputs": [
        {
          "output_type": "stream",
          "name": "stdout",
          "text": [
            "Напишіть число від 4 до 10: 6\n",
            "#\n",
            "##\n",
            "###\n",
            "####\n",
            "#####\n",
            "######\n"
          ]
        }
      ]
    },
    {
      "cell_type": "markdown",
      "source": [
        "12. (20 балів) Гра \"Нумо вгадай\".\n",
        "Розробіть просту гру, де користувач має вгадати випадкове число від 1 до 100. Для генерації випадкового числа використовуйте функцію random.randint(a, b) (тут a та b включно). Для отримання числа з консолі використовуйте функцію input(), результат якої обовʼязково явно приведіть до типу int.\n",
        "\n",
        "Підказка: використовуйте цикл while та умови if-else, щоб повідомити користувачу піказки (напр. \"Більше\", \"Менше\") поки користувач не вгадає. По завершенню виведіть кількість спроб, які знадобилися для вгадування.\n"
      ],
      "metadata": {
        "id": "XOniyaun74Ed"
      }
    },
    {
      "cell_type": "code",
      "source": [
        "import random\n",
        "secret_number = random.randint(1, 100)\n",
        "attempts = 0\n",
        "while True:\n",
        "    guess = input(f\"Вгадайте число від 1 до 100: \")\n",
        "    if not guess.isdigit():\n",
        "        print(\"Тільки числа. Спробуй ще раз\")\n",
        "        continue\n",
        "    guess = int(guess)\n",
        "    attempts += 1\n",
        "    if guess == secret_number:\n",
        "        print(f\"Вітаємо! Ви вгадали число {secret_number} за {attempts} спроб.\")\n",
        "        break\n",
        "    elif guess < secret_number:\n",
        "        print(\"Більше.\")\n",
        "    else:\n",
        "        print(\"Менше.\")"
      ],
      "metadata": {
        "id": "iomCeUuW73NG",
        "colab": {
          "base_uri": "https://localhost:8080/"
        },
        "outputId": "9db1fcdb-2e06-40cf-8150-0f6b185aad6f"
      },
      "execution_count": null,
      "outputs": [
        {
          "output_type": "stream",
          "name": "stdout",
          "text": [
            "Вгадайте число від 1 до 100: 10\n",
            "Більше.\n",
            "Вгадайте число від 1 до 100: 40\n",
            "Більше.\n",
            "Вгадайте число від 1 до 100: 70\n",
            "Менше.\n",
            "Вгадайте число від 1 до 100: 60\n",
            "Менше.\n",
            "Вгадайте число від 1 до 100: 50\n",
            "Менше.\n",
            "Вгадайте число від 1 до 100: 46\n",
            "Більше.\n",
            "Вгадайте число від 1 до 100: t\n",
            "Тільки числа. Спробуй ще раз\n",
            "Вгадайте число від 1 до 100: 48\n",
            "Менше.\n",
            "Вгадайте число від 1 до 100: 47\n",
            "Вітаємо! Ви вгадали число 47 за 8 спроб.\n"
          ]
        }
      ]
    },
    {
      "cell_type": "markdown",
      "source": [
        "# Вітаю! Ви велика(ий) молодець, що впоралась(вся). Похваліть себе та побалуйте чимось приємним. Я Вами пишаюся."
      ],
      "metadata": {
        "id": "jTs-rqOptY2R"
      }
    }
  ]
}